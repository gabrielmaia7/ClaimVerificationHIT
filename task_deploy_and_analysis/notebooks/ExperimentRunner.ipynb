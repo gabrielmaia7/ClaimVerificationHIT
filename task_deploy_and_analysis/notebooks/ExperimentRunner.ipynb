{
 "cells": [
  {
   "cell_type": "code",
   "execution_count": 1,
   "metadata": {},
   "outputs": [],
   "source": [
    "import mturk\n",
    "import random\n",
    "from datetime import datetime\n",
    "import json\n",
    "from pprint import pprint\n",
    "import copy\n",
    "import numpy as np\n",
    "from collections import OrderedDict\n",
    "import pandas as pd\n",
    "import pymongo\n",
    "import botocore\n",
    "import uuid\n",
    "import pdb\n",
    "import seaborn as sns\n",
    "import matplotlib.pyplot as plt\n",
    "#import pingouin as pg\n",
    "import krippendorff_alpha as ka"
   ]
  },
  {
   "cell_type": "markdown",
   "metadata": {},
   "source": [
    "# Prep"
   ]
  },
  {
   "cell_type": "code",
   "execution_count": 2,
   "metadata": {},
   "outputs": [],
   "source": [
    "data_folder = '../data/campaign/'\n",
    "config_folder = '../config/campaign/'\n",
    "\n",
    "with open('../data/language_tests.json','r',encoding='utf-8') as f:\n",
    "    language_tests = json.load(f)\n",
    "with open('../config/mongodb_credentials.json','r') as f:\n",
    "    mongodb_credentials = json.load(f)\n",
    "    #mongodb_credentials[\"connection_string\"]"
   ]
  },
  {
   "cell_type": "code",
   "execution_count": 3,
   "metadata": {},
   "outputs": [
    {
     "data": {
      "text/plain": [
       "Collection(Database(MongoClient(host=['cluster0-shard-00-01.hjstc.mongodb.net:27017', 'cluster0-shard-00-00.hjstc.mongodb.net:27017', 'cluster0-shard-00-02.hjstc.mongodb.net:27017'], document_class=dict, tz_aware=False, connect=True, retrywrites=True, w='majority', authsource='admin', replicaset='Cluster0-shard-0', ssl=True), 'textual_entailment'), 'hit_results_sandbox')"
      ]
     },
     "execution_count": 3,
     "metadata": {},
     "output_type": "execute_result"
    }
   ],
   "source": [
    "\"\"\" Connect to MTurk and to the Mongodb database. Set the boolean below to TRUE to use the marketplace and to FALSE to use the sandbox (testing the HITs)\"\"\"\n",
    "create_hits_in_production = False\n",
    "is_pilot = False\n",
    "\n",
    "db_client = pymongo.MongoClient(mongodb_credentials[\"connection_string\"])\n",
    "db = db_client['textual_entailment']\n",
    "\n",
    "collection_name = 'hit_results' + ('_sandbox' if not create_hits_in_production else '') + ('_pilots' if is_pilot else '')\n",
    "\n",
    "hit_result_collection = db[collection_name]\n",
    "hit_result_collection"
   ]
  },
  {
   "cell_type": "code",
   "execution_count": 4,
   "metadata": {},
   "outputs": [
    {
     "name": "stdout",
     "output_type": "stream",
     "text": [
      "10000.00\n"
     ]
    },
    {
     "data": {
      "text/plain": [
       "'hit_results_sandbox'"
      ]
     },
     "execution_count": 4,
     "metadata": {},
     "output_type": "execute_result"
    }
   ],
   "source": [
    "from importlib import reload\n",
    "reload(mturk)\n",
    "mt = mturk.MTurk()\n",
    "mt.launch_client(create_hits_in_production)\n",
    "collection_name"
   ]
  },
  {
   "cell_type": "code",
   "execution_count": 5,
   "metadata": {},
   "outputs": [],
   "source": [
    "\"\"\" Ban the spammers! \"\"\"\n",
    "to_ban = False\n",
    "if to_ban:\n",
    "    with open('./config/banlist.json','r') as f:\n",
    "        banlist = json.load(f)\n",
    "    for w in banlist:\n",
    "        try:\n",
    "            response = mt.client.create_worker_block(\n",
    "                WorkerId=w,\n",
    "                Reason='You are copy and pasting text'\n",
    "            )\n",
    "            assert(response['ResponseMetadata']['HTTPStatusCode'] == 200)\n",
    "        except botocore.exceptions.ClientError as e:\n",
    "            continue"
   ]
  },
  {
   "cell_type": "markdown",
   "metadata": {},
   "source": [
    "# Exec"
   ]
  },
  {
   "cell_type": "code",
   "execution_count": 6,
   "metadata": {},
   "outputs": [
    {
     "name": "stdout",
     "output_type": "stream",
     "text": [
      "Generated 91 tasks with the following configs:\n",
      "{'AssignmentDurationInSeconds': 10800,\n",
      " 'Description': 'Help us by fact-verifying an affirmation. You should have '\n",
      "                'reading proficiency in English.',\n",
      " 'Keywords': 'English, Reading, Fact-verification',\n",
      " 'LifetimeInSeconds': 604800,\n",
      " 'MaxAssignments': 1,\n",
      " 'Reward': '1.0',\n",
      " 'Title': 'Verifying an affirmation with multiple evidence.'}\n"
     ]
    }
   ],
   "source": [
    "\"\"\" Create the tasks by populating the HTML templates using the config file \"\"\"\n",
    "\n",
    "task_types = ['single','multiple']\n",
    "task_type = task_types[1]\n",
    "\n",
    "with open(config_folder + 'task_config_{}.json'.format(task_type),'r') as f:\n",
    "    task_content = json.load(f)\n",
    "\n",
    "TaskAttributes = task_content['task_attributes']\n",
    "\n",
    "with open(task_content['html_layout'], 'r', encoding='utf-8') as f:\n",
    "    html_layout = f.read()\n",
    "    \n",
    "\n",
    "html_layout = html_layout.replace('${time_thr}$', task_content['time_thr'])\n",
    "if is_pilot:\n",
    "    html_layout = html_layout.replace('${pilot_wording}$',\n",
    "    '''\n",
    "    <li>\n",
    "        <span style=\"color:red\">This is a pilot.</span> Helpful and constructive feedback, regardless of\n",
    "        whether you finished the task, will be compensated. If there are technical errors that prevented\n",
    "        you from finishing, let us know and we will take them into consideration.\n",
    "    </li>\n",
    "    '''                              \n",
    "    )\n",
    "else:\n",
    "    html_layout = html_layout.replace('${pilot_wording}$','')\n",
    "    \n",
    "with open(data_folder + task_content['tasks'],'r') as f:\n",
    "    taskSets = json.load(f)\n",
    "    \n",
    "# If you're only testing, just pick one hit and run it once, with no qualification barriers\n",
    "if not create_hits_in_production:\n",
    "    TaskAttributes.pop('QualificationRequirements')\n",
    "    TaskAttributes['MaxAssignments'] = 1 \n",
    "    random.seed(42)\n",
    "    #taskSets = random.sample(taskSets,1)\n",
    "        \n",
    "taskSets_dict = {\n",
    "    'html_layout' : html_layout,\n",
    "    'taskSets' : taskSets,\n",
    "    'TaskAttributes' : TaskAttributes,\n",
    "    'task_content': task_content\n",
    "}\n",
    "      \n",
    "print(f'Generated {len(taskSets)} tasks with the following configs:')\n",
    "\n",
    "pprint(TaskAttributes,indent=1) #verify the properties before running the HITs"
   ]
  },
  {
   "cell_type": "code",
   "execution_count": 7,
   "metadata": {},
   "outputs": [
    {
     "name": "stdout",
     "output_type": "stream",
     "text": [
      "Remaining HITs: 91\n",
      "Tasks totally finished: 0\n",
      "Expected cost: $109.2\n"
     ]
    }
   ],
   "source": [
    "\"\"\" See how many HITs this will generate, already multiplied by the expected number of assignments.\n",
    "Multiply the resulting number by the payment to see how much money this batch will consume. \"\"\"\n",
    "    \n",
    "l=[]\n",
    "done_count=0\n",
    "target_assignments = TaskAttributes['MaxAssignments']\n",
    "for taskSet in taskSets:\n",
    "    TaskAttributes_hit = copy.deepcopy(TaskAttributes)\n",
    "    TaskAttributes_hit['MaxAssignments'] = target_assignments -\\\n",
    "        sum([hit['hit']['NumberOfAssignmentsCompleted'] for hit in hit_result_collection.find({\n",
    "            'taskSet_id':taskSet['_id'],\n",
    "            'type': task_content['type'],\n",
    "        })]) #or sum [hit['hit']['NumberOfAssignmentsCompleted'] for completed results\n",
    "    l.append(TaskAttributes_hit['MaxAssignments'])\n",
    "    if TaskAttributes_hit['MaxAssignments'] == 0:\n",
    "        done_count += 1\n",
    "print(f'Remaining HITs: {sum(l)}')\n",
    "print(f'Tasks totally finished: {done_count}')\n",
    "print(f'Expected cost: ${sum(l)*float(TaskAttributes[\"Reward\"])*1.2}')"
   ]
  },
  {
   "cell_type": "code",
   "execution_count": 8,
   "metadata": {
    "scrolled": true
   },
   "outputs": [
    {
     "name": "stdout",
     "output_type": "stream",
     "text": [
      "0: 11ecadad-c969-4854-ba28-add296d88fa9\n",
      "1: 65ed483e-948b-44c5-9dad-54548bf4eab3\n",
      "2: d5609d87-482e-47c9-8516-bc5b8446f625\n",
      "3: 7e5ae0cb-bb27-4bed-bfeb-6fb741c89815\n",
      "4: c47ac57d-9437-44e9-94bf-492c2f64bf54\n",
      "5: 601161d4-282c-4b8d-ad0e-c8ee64fc439c\n",
      "6: e3a5b6cc-c8e2-44da-b84f-23e01dc2668e\n",
      "7: 7f1b7353-545c-43fe-8ffd-7aa9068eb127\n",
      "8: 74b6737e-0cb4-4224-b726-87067c2dbb0e\n",
      "9: c77ca64d-2f1d-4881-a2f5-f28d5161bc3e\n",
      "10: 245e799f-15ca-4f64-9c4b-be63755ba684\n",
      "11: ed78e074-fa1b-4695-bb7c-287a9420e7f2\n",
      "12: 0ef73ba7-7bf3-447d-95f3-882d2945861f\n",
      "13: 3997de30-1e52-41b9-8890-2eef86557579\n",
      "14: a158f0c2-04d9-4ff6-9f7a-fdf4eda22015\n",
      "15: 5402a8f6-fffb-4bf9-abee-de9bab804217\n",
      "16: 89c05aef-337e-4971-ba12-4f95d4fc3436\n",
      "17: 1a674890-af55-4119-a172-c67edc147a94\n",
      "18: 670624cc-b1dd-43db-ab19-e984550ec5fb\n",
      "19: 0e7219e6-d7ae-45f7-9047-d0afc13128b4\n",
      "20: 43195bcf-5a8e-4926-ad47-6e95d5c4aebc\n",
      "21: de5878cd-0a2a-4b83-9b46-35e18d5e811b\n",
      "22: d15531b7-de73-4c14-af13-5ad9647b78e6\n",
      "23: 66e2501e-36d3-4fd7-83a4-52bfc6af9727\n",
      "24: 5496a89d-6a2d-463c-b060-3db7fc31251d\n",
      "25: 29783c27-9a89-40cb-9221-ada5fa372b11\n",
      "26: a3cd1f90-b00f-4620-b43d-d41a8662e42a\n",
      "27: bcb20990-3a25-4196-8969-c93036bcbd5d\n",
      "28: d3fc1199-8d2f-44a2-8d63-cdf6ebcc89eb\n",
      "29: 583fd158-80db-41ed-9760-c3aac19b2948\n",
      "30: e13c111b-1c83-459c-8cc4-c4d380573f6d\n",
      "31: 718c32ba-92bc-4eb9-8a5e-d9a344e81e85\n",
      "32: 13231ef3-e372-4fda-a328-5fcc93c43146\n",
      "33: 3dabc62e-dc1c-4aed-9d60-c494b1338faa\n",
      "34: c446d415-94a2-4e58-8942-57d017defe93\n",
      "35: 315d1084-aff1-4e7f-a408-c913f303a324\n",
      "36: dcafbdd9-5fc9-4629-868a-3b563724971c\n",
      "37: b0a4df80-2cb7-4076-b728-ddf132486413\n",
      "38: 976b225b-3fe5-4a0c-aad9-236372f6e646\n",
      "39: a0576390-b941-42b5-99c8-773d08377c36\n",
      "40: 29dca925-f071-49c6-80d4-21cd4cf4ec51\n",
      "41: 89897f86-6e10-419b-b9aa-786d4a837ce8\n",
      "42: 8f8a3f54-a892-4788-84ac-8df10338c267\n",
      "43: bd1b3e7c-d6c0-45ae-8177-cfbe8133ab13\n",
      "44: 680bba93-08e7-4106-9284-b5a10add8b5f\n",
      "45: 220090bd-5fd6-4212-9940-b3c4ca56b7ad\n",
      "46: efd7d382-8ba8-4231-b95b-19a8e0cfb458\n",
      "47: 91b43249-b275-4dbb-874c-0343bb29d27e\n",
      "48: 0aedb8ff-e0c5-4320-9d1c-f000499285be\n",
      "49: fe2f968a-7638-4d35-90ae-2c4b17c15b3d\n",
      "50: a6ea48c2-2c6b-493f-8bb0-2f4d935baf2e\n",
      "51: 21c7cf12-a7b5-4fa4-8fb3-4b489d2f0229\n",
      "52: 65221bdc-125b-4f06-b9b5-69b56597c960\n",
      "53: fad7c8f2-62ce-4c4e-9342-7034ac5f938f\n",
      "54: db63a9b1-4029-422a-a67f-c587287fc005\n",
      "55: fe10a6f0-9dc6-4181-829c-c52ddb85aff4\n",
      "56: 5803a8fb-48df-48c4-b9f3-09ae9f7c1b60\n",
      "57: 73a40703-6dc7-468c-b699-4a0908e350ef\n",
      "58: 2c6c490b-4ddf-43c6-81c2-61549135277b\n",
      "59: 9402c4bb-abc5-49ce-83e1-5c97af106f3b\n",
      "60: accde7da-d620-4c0b-8790-cc3efa2604b9\n",
      "61: d52dde47-503b-4497-8dcc-b60455d459b1\n",
      "62: c23974a5-2109-46c6-85fd-48d305c5d243\n",
      "63: 5f4ebeb6-a94f-45ca-90d9-68235cfa27fd\n",
      "64: a7b0a7b0-02b6-467a-989b-b687e50ad3a9\n",
      "65: dc6e1201-fab7-4d37-b7c4-9d6d033f5f83\n",
      "66: 78fc2c10-0dd6-41e2-a689-24df82645f95\n",
      "67: ad2fd035-11b2-4fc4-a4c0-9952f5476446\n",
      "68: ab5a8552-1d53-46af-9a86-2fef31c4cef2\n",
      "69: a267efbc-98ef-462a-9b45-ecba19ea2e8e\n",
      "70: ff3a24e2-4cae-458f-bb60-4acd31887b1e\n",
      "71: 44b53d5e-3232-4455-8f23-1b60d504d8c8\n",
      "72: 83be5fb2-a73c-4213-a5f8-a474ca73f074\n",
      "73: f3eb66d8-c794-47a4-9241-3488a3e14f48\n",
      "74: 9cb61932-c98a-4155-8b5f-642c715fecc2\n",
      "75: 74fb02f3-a657-4144-a733-0766b34367dc\n",
      "76: d61d9f93-d692-471b-a03b-077518d48959\n",
      "77: 64126d49-4c70-46b5-8283-cd9c989d7833\n",
      "78: 1ab47f2c-64c5-421e-9d1e-59ee49aa3386\n",
      "79: 855d7282-e0c9-4335-a4e7-3977df6afcd3\n",
      "80: 082b07b6-4a5a-4918-a0f3-9d8db5ed5456\n",
      "81: 0039eceb-1794-4d55-87d2-d25a8a27e9e0\n",
      "82: dcd3e886-f1c3-4e0e-a171-1e6bfeb4d71c\n",
      "83: 227a230c-d9de-4fb3-88f1-3352fa40b05c\n",
      "84: dd5b4358-b225-424b-a4eb-952c656470d2\n",
      "85: d29eb909-b838-4a2b-ac3c-76567188a1e7\n",
      "86: 2c0bcbc6-e72d-44b2-8e1a-e2585ad7e68e\n",
      "87: 81d7ce54-dc42-400e-8f12-8bc3cb6dfcd8\n",
      "88: 8581cdef-02e0-4ddd-b4a0-f9e682017f62\n",
      "89: 2238535f-68bb-4fee-9356-4cf20c33f64e\n",
      "90: 9e018022-b37e-4982-ae08-a6005ecfed41\n",
      "Launched tasks\n",
      "You can view the HITs here:\n",
      "https://workersandbox.mturk.com/mturk/preview?groupId=3DIFNAQ3LFRMVCS2IFCNHCOEBF8T3J\n",
      "Batch ID is cdfd39d2-fb18-4984-af6d-4e943ddf61e5\n"
     ]
    }
   ],
   "source": [
    "\"\"\" Create the batch of HITs \"\"\"\n",
    "\n",
    "results = []\n",
    "batch_id = str(uuid.uuid4())\n",
    "\n",
    "#start_from = 0\n",
    "\n",
    "hit_type_id = ''\n",
    "target_assignments = TaskAttributes['MaxAssignments']\n",
    "for idx, taskSet in enumerate(taskSets):\n",
    "    print(f\"{idx}: {taskSet['_id']}\")\n",
    "    #if idx<start_from:\n",
    "    #    continue\n",
    "    TaskAttributes_hit = copy.deepcopy(TaskAttributes) # Adjust based on how many were already done in other batches\n",
    "    TaskAttributes_hit['MaxAssignments'] = target_assignments -\\\n",
    "        sum([hit['hit']['NumberOfAssignmentsCompleted'] for hit in hit_result_collection.find({\n",
    "            'taskSet_id':taskSet['_id'],\n",
    "            'type': task_content['type']\n",
    "        })])\n",
    "    if TaskAttributes_hit['MaxAssignments'] > 0:\n",
    "        try:\n",
    "            random.seed(None)\n",
    "            language_questions = random.sample(language_tests['en'],k=4)\n",
    "            response = mt.create_hit(\n",
    "                html_layout.replace('${affirmation_evidence_pairs}$', str(taskSet['taskSet'])).\\\n",
    "                            replace('${attention_questions}$', json.dumps(language_questions)),\n",
    "                **TaskAttributes_hit\n",
    "            )\n",
    "\n",
    "            hit_type_id = response['HIT']['HITTypeId']\n",
    "            result = {\n",
    "                '_id': response['HIT']['HITId'],\n",
    "                'batch_id': batch_id,\n",
    "                'type': task_content['type'],\n",
    "                'taskSet': taskSet['taskSet'],\n",
    "                'attention_test': language_questions,\n",
    "                'taskSet_id':taskSet['_id'],\n",
    "                'hit': response['HIT'],\n",
    "                'timestamp': datetime.now()\n",
    "            }\n",
    "            results.append(result)\n",
    "            hit_result_collection.insert_one(result)\n",
    "        except botocore.exceptions.ClientError as e:\n",
    "            print(e.__dict__)\n",
    "            if e.response['Error']['Code'] == 'RequestError':\n",
    "                # Not enough funds\n",
    "                print(\"Funds ran out! The last hit above was not launched! Please recharge!\")\n",
    "                break\n",
    "            elif e.response['Error']['Code'] == 'ThrottlingException':    \n",
    "                pdb.set_trace()              \n",
    "                print(\"Turn off the database updater!\")\n",
    "                continue\n",
    "            else:\n",
    "                pdb.set_trace()            \n",
    "                raise\n",
    "        except Exception as e:\n",
    "            pdb.set_trace()            \n",
    "            raise\n",
    "        #except:\n",
    "        #    pdb.set_trace()            \n",
    "        #    raise\n",
    "\n",
    "# For you to go to the HITs you just created and test them\n",
    "print('Launched tasks')\n",
    "if not create_hits_in_production:\n",
    "    print('You can view the HITs here:')\n",
    "    print(mt.mturk_environment['preview']+\"?groupId={}\".format(hit_type_id))\n",
    "else:\n",
    "    print('Launched! Good Luck!')\n",
    "    \n",
    "print('Batch ID is',batch_id)"
   ]
  },
  {
   "cell_type": "code",
   "execution_count": 9,
   "metadata": {
    "scrolled": false
   },
   "outputs": [
    {
     "name": "stdout",
     "output_type": "stream",
     "text": [
      "Removed 362E9TQF3K2DQJGWPQEM2KIOTN4IGY\n",
      "Removed 30UZJB2PPKO0KJ9TNRO8UHPAKWU352\n",
      "Removed 31ANT7FQOBEFERGS2CDAYBQK31C5HB\n",
      "Removed 3WYZV0QBGMPEPXXG8QM94JE61NGXBW\n",
      "Removed 3SD15I2WE56W3N97SAYDMN3AGR536I\n",
      "Removed 3IQ9O0AYX9BHVO229QDT13XDJHCTII\n",
      "Removed 35A1YQPVGHSFAMRC8UVVYNRZ3ER5I4\n",
      "Removed 37NXA7GVTWIYYHEXZOALU1DQX6MVLE\n",
      "Removed 33NKDW9FG0UXZ2PMMQI4F3KOJ8GXC3\n",
      "Removed 3BFNCI9LZN2F7NNCBK35S136B2P37H\n",
      "Removed 3I4E7AFQ3NBDQZM8R8YTD4CDWW1TJU\n",
      "Removed 35O6H0UNMVSB5XBIQCGVAO6ZGTG5JG\n",
      "Removed 386T3MLZMQ7NQ9TY22DS431UJAB086\n",
      "Removed 3D1UCPY6HJLJ71SVLPVB61Z1MMV384\n",
      "Removed 3W9XHF7WHN781JSQ9TY5EJCQBL1TKT\n",
      "Removed 3JTPR5MT0VO6GHH08XG7B36CVIG5KF\n",
      "Removed 3UDTAB6HI9BN4EC87UJ64ZW53GT09V\n",
      "Removed 3QX22DUVPRTI4ZWIZ0B0UESFXBCVMG\n",
      "Removed 3S829FDFU5D74UV0MMDFZ92648SXD3\n",
      "Removed 31S7M7DAHJ2JLPA8UTA6TJP50L6TLW\n",
      "Removed 37M4O367WMU165H3T9TNQGYGKNB5MK\n",
      "Removed 31D0ZWOD1DB19XMDZ0X60U7P9YB0AA\n",
      "Removed 302U8RURK2DOMHHIB1Q07THF21MVNG\n",
      "Removed 3Z8UJEJOD2PJL6B5QH1P6XUC6SD39T\n",
      "Removed 3DQYSJDTZONCW090IHOZ5RKR4KTXEW\n",
      "Removed 36818Z1KW6PXQPLAINFP2S5WCAV3A8\n",
      "Removed 3K2CEDRADED3R7STU5BLTW4U0QWTMY\n",
      "Removed 3HRWUH63RXE7ON235A8N3VNGPDL5NK\n",
      "Removed 3R5LWXWHS3KAGE5ROCEN5U53H08XGD\n",
      "Removed 31KPKEKW5DP6S7R55EX2V5RVRGW0B5\n",
      "Removed 3D4BBDG70K8LJ4I821BG8NVKCDG3CA\n",
      "Removed 3R5OYNIC3FL9CAP6ML3DA0YP5V7TPU\n",
      "Removed 3K3G488TS5KSRKFVL2047PILUO85Q7\n",
      "Removed 3A9LA2FRXVQOGA028IW5QUH4W0LXHC\n",
      "Removed 389A2A305RUP2CJBJETX6PXD91W0CC\n",
      "Removed 3X0EMNLXFS1OP2TVRG3SBIMA2GNVPC\n",
      "Removed 32PT7WK7EPRVOWOM2X6RSTD2XDS3DA\n",
      "Removed 3XJOUITW9X3UCMQLMYI2A5OZARTTQL\n",
      "Removed 3Y3CZJSZAN5S3LUVYHP4CFSQQAA5R8\n",
      "Removed 3HEADTGN3S491F9A487HGDMP3YBVR4\n",
      "Removed 3538U0YQ2I6SMG2IT31HGTGN9Q83FL\n",
      "Removed 3BJKPTD2RFOUON5LZD72FVY46DVTRM\n",
      "Removed 3UUIU9GZD8H5J07N26UZCUT8EV75TL\n",
      "Removed 31MCUE39CNYY0GYD4N7ZYEGZA583GK\n",
      "Removed 3P520RYKDKIKJDMC2BK9HQFAX9E5UC\n",
      "Removed 3ICOHX7EOFN4ZA3PF5ZSWDXGUD90E5\n",
      "Removed 3KQC8JMJHF4C0CTOOTPHJES0P5L3HJ\n",
      "Removed 3HA5ODM5LD4L2U9NJX7M6NRLP0UVSS\n",
      "Removed 3OQQD2WO9LICW748UB72JQTFPI03IC\n",
      "Removed 30P8I9JKPLXKWSBC71UEDCHTBGN5V1\n",
      "Removed 3EN4YVUOVF4K7GVSWIZQ27XJ9SPXJH\n",
      "Removed 3087LXLJ7PSW5O3LAGJYEVIG6EO0FN\n",
      "Removed 3BFF0DJK90O6P25YE2775530SFETSA\n",
      "Removed 3O4VWC1GFZI8RIOECTS2VR8F2XP3JO\n",
      "Removed 3KVQ0UJWQ0XXBHBHXBZAZE07IPP5WB\n",
      "Removed 3D5G8J4N6DGMHUM28XCCGSN7RJ8VTH\n",
      "Removed 3WRBLBQ2HUK2JOZGL0PGWGIS7TO0GM\n",
      "Removed 329E6HTMTZE322UWUESEW68SHMP3KN\n",
      "Removed 3QD8LUVX50AC0HG77GVW1XEERRV5X4\n",
      "Removed 38G0E1M86PH1H71R822MLO99AXFVU8\n",
      "Removed 3SSN80MU9F0FI01AE3Z23MXWOHPXKG\n",
      "Removed 38VTL6WC5DP10M6HCCHYKBLNTXP5YA\n",
      "Removed 3J06WJ78IQW1UMQRDSCRHABSO4OVVX\n",
      "Removed 35F6NGNVNBVK64L6QZ9WAE745127T2\n",
      "Removed 3SA4EMRVKYE8W1SFOJF3QPWK8KB0PQ\n",
      "Removed 3R6RZGK0YIOIYGLWI3ZBO9FM6LQVY6\n",
      "Removed 3HFWPF5ALCV1QL74ZN1GNSZ2YG23S4\n",
      "Removed 3KI0JD2ZV4UE46AUUM13Z4FQLTR67Q\n",
      "Removed 37Y5RYYI1SHD6JEIJC84U8O65B2XSX\n",
      "Removed 30QQTY5GNNWZ6H0VQ4Z6FAT6OF97UT\n",
      "Removed 3YO4AH2FQGWTWDTUOWUSQUMUDGX0QH\n",
      "Removed 39RRBHZ0BXDI36V1EP1U2GOOCFUVZX\n",
      "Removed 3DA79LNS6C725LKJON66XXVO0ZG3TT\n",
      "Removed 33TGB4G0MSTELJRX8CDU4DKS7UGXTM\n",
      "Removed 3BAWBGQGZOBZJWPVVU9BBWVP2MI7VI\n",
      "Removed 3CO05SML8YHT8E8U1BJSVKWZ92Z0RI\n",
      "Removed 3ODOP6T3BVWT3I9A5MRT6FE4EMZ42N\n",
      "Removed 3L21G7IH5A82C45YBPFMHL86HHJY1K\n",
      "Removed 3TTPFEFXDWWBXVG67VNFQH4KZWN6HS\n",
      "Removed 3S37Y8CWJBCFFY7HJ6G0UMUTITTW4W\n",
      "Removed 386T3MLZMQ7NQ9TY22DS431UJAB80E\n",
      "Removed 37SQU136WA05MYUVZ08D3YXWAWB11Q\n",
      "Removed 3XU80RHWI2S36WOX90AHZUB2Y0V44J\n",
      "Removed 37MQ8Z1JRH891PNUUTF0M4IB9NXY21\n",
      "Removed 37SDSEDIOCENXYEGYLHSI8K4O2H81H\n",
      "Removed 3TCFMTM8IH0CBJCRI48R8H7122P127\n",
      "Removed 3PMR2DOWPRDL2FSXN5TR4MHGYWQ45O\n",
      "Removed 3RBI0I35YHFYM7JDYTT55EN3F1XY3C\n",
      "Removed 3X7837UUBGA7O1BWVVQ02UKZCOR6JX\n",
      "Removed 3KVQ0UJWQ0XXBHBHXBZAZE07IPOW51\n",
      "Removed 3H5TOKO3ECVHLJSBSO3WWSVGUR1464\n",
      "Removed 3G3AJKPCYO4J432HY7YOFJF9T1TY4X\n",
      "Finished\n"
     ]
    }
   ],
   "source": [
    "# REMOVING FINISHED TASKS FROM THE UPDATE QUEUE\n",
    "\n",
    "\"\"\" If you set 'force' to TRUE, it will abort mission and force an expiry in all HITs and then delete them.\n",
    "If you only want to remove the completed ones (make them Disposed so the update routine won't loop through tons of\n",
    "HITs), keep it as FALSE.\"\"\"\n",
    "force = True\n",
    "while True:\n",
    "    ''' Dispose all hits in the database '''\n",
    "    query = {'hit.HITStatus': {'$ne': 'Disposed'}}\n",
    "    #query['type'] = 'relevance'\n",
    "    if not force:\n",
    "        query['hit.NumberOfAssignmentsPending'] = 0\n",
    "        query['hit.NumberOfAssignmentsAvailable'] = 0\n",
    "    elif force:\n",
    "        query['hit.NumberOfAssignmentsPending'] = 0\n",
    "    hit_result_collection_list = list(hit_result_collection.find(query))\n",
    "    if (not force and len(hit_result_collection_list) == 0) or (force and mt.client.list_hits()['NumResults']==0):\n",
    "    #if len(list(hit_result_collection.find({'hit.HITStatus': {'$not': {'$eq': 'Disposed'}}, 'type':'relevance'}))) == 0:\n",
    "        print('Finished')\n",
    "        break\n",
    "    for hit in hit_result_collection_list:\n",
    "        try:\n",
    "            #print(f'Trying to remove {hit[\"_id\"]}')\n",
    "            mt.client.delete_hit(HITId = hit['_id'])\n",
    "            print('Removed',hit['_id'])\n",
    "        except Exception as e:\n",
    "            #print('Level 1', hit['_id'], e)\n",
    "            if force:\n",
    "                try:\n",
    "                    mt.client.update_expiration_for_hit(HITId = hit['_id'], ExpireAt=datetime(2017, 1, 1))\n",
    "                    mt.client.delete_hit(HITId = hit['_id'])\n",
    "                    print('Removed',hit['_id'])\n",
    "                except Exception as e:\n",
    "                    #print('Level 2', hit['_id'],e)\n",
    "                    pass\n",
    "            continue"
   ]
  },
  {
   "cell_type": "markdown",
   "metadata": {},
   "source": [
    "# MISC"
   ]
  },
  {
   "cell_type": "code",
   "execution_count": 36,
   "metadata": {},
   "outputs": [
    {
     "data": {
      "text/plain": [
       "{'AvailableBalance': '10000.00',\n",
       " 'ResponseMetadata': {'RequestId': 'cac83b9b-d08b-477e-a444-cb6347002975',\n",
       "  'HTTPStatusCode': 200,\n",
       "  'HTTPHeaders': {'x-amzn-requestid': 'cac83b9b-d08b-477e-a444-cb6347002975',\n",
       "   'content-type': 'application/x-amz-json-1.1',\n",
       "   'content-length': '31',\n",
       "   'date': 'Wed, 06 Oct 2021 16:05:21 GMT'},\n",
       "  'RetryAttempts': 0}}"
      ]
     },
     "execution_count": 36,
     "metadata": {},
     "output_type": "execute_result"
    }
   ],
   "source": [
    "mt.client.get_account_balance()"
   ]
  },
  {
   "cell_type": "code",
   "execution_count": 8,
   "metadata": {},
   "outputs": [
    {
     "data": {
      "text/plain": [
       "{'ResponseMetadata': {'RequestId': 'a038b160-0721-4475-bbfd-ee73cf5fe3b9',\n",
       "  'HTTPStatusCode': 200,\n",
       "  'HTTPHeaders': {'x-amzn-requestid': 'a038b160-0721-4475-bbfd-ee73cf5fe3b9',\n",
       "   'content-type': 'application/x-amz-json-1.1',\n",
       "   'content-length': '2',\n",
       "   'date': 'Fri, 13 Aug 2021 18:45:26 GMT'},\n",
       "  'RetryAttempts': 0}}"
      ]
     },
     "execution_count": 8,
     "metadata": {},
     "output_type": "execute_result"
    }
   ],
   "source": [
    "#mt.client.send_bonus(\n",
    "#    WorkerId='-',\n",
    "#    BonusAmount='-',\n",
    "#    AssignmentId='-',\n",
    "#    Reason='feedback'\n",
    "#)"
   ]
  },
  {
   "cell_type": "code",
   "execution_count": 38,
   "metadata": {
    "scrolled": true
   },
   "outputs": [
    {
     "data": {
      "text/plain": [
       "{'NumResults': 0,\n",
       " 'HITs': [],\n",
       " 'ResponseMetadata': {'RequestId': '473b5051-fa30-48cd-8b87-4bd024bfebdf',\n",
       "  'HTTPStatusCode': 200,\n",
       "  'HTTPHeaders': {'x-amzn-requestid': '473b5051-fa30-48cd-8b87-4bd024bfebdf',\n",
       "   'content-type': 'application/x-amz-json-1.1',\n",
       "   'content-length': '26',\n",
       "   'date': 'Wed, 06 Oct 2021 16:07:04 GMT'},\n",
       "  'RetryAttempts': 0}}"
      ]
     },
     "execution_count": 38,
     "metadata": {},
     "output_type": "execute_result"
    }
   ],
   "source": [
    "# CLEANING LEFTOVERS\n",
    "\n",
    "mt.client.list_hits(MaxResults=100)\n",
    "#hitid = '3M93N4X8INZCBZ9T28UOVALJBK2SJO'\n",
    "#mt.client.update_expiration_for_hit(HITId = hitid, ExpireAt=datetime(2018, 1, 1))\n",
    "#mt.get_hit_answers(HITId = hitid, approve=True)\n",
    "#mt.client.delete_hit(HITId = hitid)"
   ]
  },
  {
   "cell_type": "code",
   "execution_count": null,
   "metadata": {},
   "outputs": [],
   "source": []
  }
 ],
 "metadata": {
  "kernelspec": {
   "display_name": "Python 3",
   "language": "python",
   "name": "python3"
  },
  "language_info": {
   "codemirror_mode": {
    "name": "ipython",
    "version": 3
   },
   "file_extension": ".py",
   "mimetype": "text/x-python",
   "name": "python",
   "nbconvert_exporter": "python",
   "pygments_lexer": "ipython3",
   "version": "3.8.5"
  }
 },
 "nbformat": 4,
 "nbformat_minor": 2
}
