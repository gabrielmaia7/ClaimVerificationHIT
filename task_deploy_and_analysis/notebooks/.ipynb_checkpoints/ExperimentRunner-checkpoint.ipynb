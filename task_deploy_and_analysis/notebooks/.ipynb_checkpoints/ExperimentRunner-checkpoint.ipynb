{
 "cells": [
  {
   "cell_type": "code",
   "execution_count": 1,
   "metadata": {},
   "outputs": [],
   "source": [
    "import mturk\n",
    "import random\n",
    "from datetime import datetime\n",
    "import json\n",
    "from pprint import pprint\n",
    "import copy\n",
    "import numpy as np\n",
    "from collections import OrderedDict\n",
    "import pandas as pd\n",
    "import pymongo\n",
    "import botocore\n",
    "import uuid\n",
    "import pdb\n",
    "import seaborn as sns\n",
    "import matplotlib.pyplot as plt\n",
    "#import pingouin as pg\n",
    "import krippendorff_alpha as ka"
   ]
  },
  {
   "cell_type": "markdown",
   "metadata": {},
   "source": [
    "# Prep"
   ]
  },
  {
   "cell_type": "code",
   "execution_count": 2,
   "metadata": {},
   "outputs": [],
   "source": [
    "data_folder = '../data/campaign/'\n",
    "config_folder = '../config/campaign/'\n",
    "\n",
    "with open('../data/language_tests.json','r',encoding='utf-8') as f:\n",
    "    language_tests = json.load(f)\n",
    "with open('../config/mongodb_credentials.json','r') as f:\n",
    "    mongodb_credentials = json.load(f)\n",
    "    #mongodb_credentials[\"connection_string\"]"
   ]
  },
  {
   "cell_type": "code",
   "execution_count": 3,
   "metadata": {},
   "outputs": [
    {
     "data": {
      "text/plain": [
       "Collection(Database(MongoClient(host=['cluster0-shard-00-01.hjstc.mongodb.net:27017', 'cluster0-shard-00-00.hjstc.mongodb.net:27017', 'cluster0-shard-00-02.hjstc.mongodb.net:27017'], document_class=dict, tz_aware=False, connect=True, retrywrites=True, w='majority', authsource='admin', replicaset='Cluster0-shard-0', ssl=True), 'textual_entailment'), 'hit_results_sandbox')"
      ]
     },
     "execution_count": 3,
     "metadata": {},
     "output_type": "execute_result"
    }
   ],
   "source": [
    "\"\"\" Connect to MTurk and to the Mongodb database. Set the boolean below to TRUE to use the marketplace and to FALSE to use the sandbox (testing the HITs)\"\"\"\n",
    "create_hits_in_production = False\n",
    "is_pilot = False\n",
    "\n",
    "db_client = pymongo.MongoClient(mongodb_credentials[\"connection_string\"])\n",
    "db = db_client['textual_entailment']\n",
    "\n",
    "collection_name = 'hit_results' + ('_sandbox' if not create_hits_in_production else '') + ('_pilots' if is_pilot else '')\n",
    "\n",
    "hit_result_collection = db[collection_name]\n",
    "hit_result_collection"
   ]
  },
  {
   "cell_type": "code",
   "execution_count": 4,
   "metadata": {},
   "outputs": [
    {
     "name": "stdout",
     "output_type": "stream",
     "text": [
      "10000.00\n"
     ]
    },
    {
     "data": {
      "text/plain": [
       "'hit_results_sandbox'"
      ]
     },
     "execution_count": 4,
     "metadata": {},
     "output_type": "execute_result"
    }
   ],
   "source": [
    "from importlib import reload\n",
    "reload(mturk)\n",
    "mt = mturk.MTurk()\n",
    "mt.launch_client(create_hits_in_production)\n",
    "collection_name"
   ]
  },
  {
   "cell_type": "code",
   "execution_count": 5,
   "metadata": {},
   "outputs": [],
   "source": [
    "\"\"\" Ban the spammers! \"\"\"\n",
    "to_ban = False\n",
    "if to_ban:\n",
    "    with open('./config/banlist.json','r') as f:\n",
    "        banlist = json.load(f)\n",
    "    for w in banlist:\n",
    "        try:\n",
    "            response = mt.client.create_worker_block(\n",
    "                WorkerId=w,\n",
    "                Reason='You are copy and pasting text'\n",
    "            )\n",
    "            assert(response['ResponseMetadata']['HTTPStatusCode'] == 200)\n",
    "        except botocore.exceptions.ClientError as e:\n",
    "            continue"
   ]
  },
  {
   "cell_type": "markdown",
   "metadata": {},
   "source": [
    "# Exec"
   ]
  },
  {
   "cell_type": "code",
   "execution_count": 50,
   "metadata": {},
   "outputs": [
    {
     "name": "stdout",
     "output_type": "stream",
     "text": [
      "Generated 500 tasks with the following configs:\n",
      "{'AssignmentDurationInSeconds': 10800,\n",
      " 'Description': 'Help us by fact-verifying an affirmation. You should have '\n",
      "                'reading proficiency in English.',\n",
      " 'Keywords': 'English, Reading, Fact-verification',\n",
      " 'LifetimeInSeconds': 604800,\n",
      " 'MaxAssignments': 1,\n",
      " 'Reward': '0.5',\n",
      " 'Title': 'Verifying an affirmation with a single evidence.'}\n"
     ]
    }
   ],
   "source": [
    "\"\"\" Create the tasks by populating the HTML templates using the config file \"\"\"\n",
    "\n",
    "task_types = ['single','multiple']\n",
    "task_type = task_types[0]\n",
    "\n",
    "with open(config_folder + 'task_config_{}.json'.format(task_type),'r') as f:\n",
    "    task_content = json.load(f)\n",
    "\n",
    "TaskAttributes = task_content['task_attributes']\n",
    "\n",
    "with open(task_content['html_layout'], 'r', encoding='utf-8') as f:\n",
    "    html_layout = f.read()\n",
    "    \n",
    "\n",
    "html_layout = html_layout.replace('${time_thr}$', task_content['time_thr'])\n",
    "if is_pilot:\n",
    "    html_layout = html_layout.replace('${pilot_wording}$',\n",
    "    '''\n",
    "    <li>\n",
    "        <span style=\"color:red\">This is a pilot.</span> Helpful and constructive feedback, regardless of\n",
    "        whether you finished the task, will be compensated. If there are technical errors that prevented\n",
    "        you from finishing, let us know and we will take them into consideration.\n",
    "    </li>\n",
    "    '''                              \n",
    "    )\n",
    "else:\n",
    "    html_layout = html_layout.replace('${pilot_wording}$','')\n",
    "    \n",
    "with open(data_folder + task_content['tasks'],'r') as f:\n",
    "    taskSets = json.load(f)\n",
    "    \n",
    "# If you're only testing, just pick one hit and run it once, with no qualification barriers\n",
    "if not create_hits_in_production:\n",
    "    TaskAttributes.pop('QualificationRequirements')\n",
    "    TaskAttributes['MaxAssignments'] = 1 \n",
    "    random.seed(42)\n",
    "    #taskSets = random.sample(taskSets,1)\n",
    "        \n",
    "taskSets_dict = {\n",
    "    'html_layout' : html_layout,\n",
    "    'taskSets' : taskSets,\n",
    "    'TaskAttributes' : TaskAttributes,\n",
    "    'task_content': task_content\n",
    "}\n",
    "      \n",
    "print(f'Generated {len(taskSets)} tasks with the following configs:')\n",
    "\n",
    "pprint(TaskAttributes,indent=1) #verify the properties before running the HITs"
   ]
  },
  {
   "cell_type": "code",
   "execution_count": 51,
   "metadata": {},
   "outputs": [
    {
     "name": "stdout",
     "output_type": "stream",
     "text": [
      "Remaining HITs: 499\n",
      "Tasks totally finished: 1\n",
      "Expected cost: $299.4\n"
     ]
    }
   ],
   "source": [
    "\"\"\" See how many HITs this will generate, already multiplied by the expected number of assignments.\n",
    "Multiply the resulting number by the payment to see how much money this batch will consume. \"\"\"\n",
    "    \n",
    "l=[]\n",
    "done_count=0\n",
    "target_assignments = TaskAttributes['MaxAssignments']\n",
    "for taskSet in taskSets:\n",
    "    TaskAttributes_hit = copy.deepcopy(TaskAttributes)\n",
    "    TaskAttributes_hit['MaxAssignments'] = target_assignments -\\\n",
    "        sum([hit['hit']['NumberOfAssignmentsCompleted'] for hit in hit_result_collection.find({\n",
    "            'taskSet_id':taskSet['_id'],\n",
    "            'type': task_content['type'],\n",
    "        })]) #or sum [hit['hit']['NumberOfAssignmentsCompleted'] for completed results\n",
    "    l.append(TaskAttributes_hit['MaxAssignments'])\n",
    "    if TaskAttributes_hit['MaxAssignments'] == 0:\n",
    "        done_count += 1\n",
    "print(f'Remaining HITs: {sum(l)}')\n",
    "print(f'Tasks totally finished: {done_count}')\n",
    "print(f'Expected cost: ${sum(l)*float(TaskAttributes[\"Reward\"])*1.2}')"
   ]
  },
  {
   "cell_type": "code",
   "execution_count": 52,
   "metadata": {
    "scrolled": true
   },
   "outputs": [
    {
     "name": "stdout",
     "output_type": "stream",
     "text": [
      "0: 6e5c60ff-475f-42f9-a6ae-f6334e435f3a\n",
      "1: 6cd38aa5-a872-45a4-ba78-e832fbcaea2e\n",
      "2: bbb36b23-2e72-4b15-83d1-9a4e95583820\n",
      "3: 5ae72c04-e354-4beb-b42f-0bdd6d153620\n",
      "4: 177f88a1-2b1a-4373-8b21-8866e9db12a1\n",
      "5: 826a3c84-71a4-4664-85e5-1dcf7145c285\n",
      "6: 7392f8a7-4b83-40f3-b405-afad32faffac\n",
      "7: ae59ea09-9637-45d3-af00-eaf6c2fd2ee1\n",
      "8: ea5b258a-dfcc-4567-8fd7-e2a4cdf80178\n",
      "9: d50c9568-4ef9-439c-a619-0d29be40e173\n",
      "10: 02ef5848-0c81-4661-b1a0-cd2bf96cb4ce\n",
      "11: 34e569ee-9f61-4fb3-9347-642d418e5c8e\n",
      "12: 03e97986-ce5f-43bc-81a4-2212954a2440\n",
      "13: d61e000f-7ed9-476a-b617-7fb71fb90c97\n",
      "14: e3df61cf-de1b-4493-b829-5befa3eed70c\n",
      "15: a40525ac-748f-47aa-a7aa-01281de87703\n",
      "16: 447582a4-e8b2-467e-9d03-38b7e1f240ea\n",
      "17: a993c6d9-1e5f-4f56-84c1-76d617f7a1aa\n",
      "18: 94fd7f04-3d84-4fbe-b9fc-c997f8d39214\n",
      "19: ce3853d7-439a-461b-bce8-a68ade951692\n",
      "20: ff4b9a11-0e02-463b-8494-c5312ca7b74c\n",
      "21: 25773c8d-d1ed-4acd-a445-a6c9cd7a2cf6\n",
      "22: 265de7dc-3f9f-44fb-b2b3-d482c2ff5477\n",
      "23: 0be9b6fd-afcf-4e4a-a022-2e0a9e6bac46\n",
      "24: 771c9b4d-d25c-4848-8c2d-6a35e19ca8a5\n",
      "25: 41586ac5-8c1b-4d3b-8de8-2d34df93f166\n",
      "26: acf4a8b5-9abe-4c00-800b-b8947a7b839d\n",
      "27: 29c64312-855b-45f4-a7c1-17ee2d15b7c5\n",
      "28: 062e7e2d-bfc2-4b6d-9e5b-314acbc45253\n",
      "29: 3a729ad9-496b-499f-b9e2-576f3f80dbc8\n",
      "30: 75735923-7894-4dfe-889e-b5c582a194c5\n",
      "{'response': {'Error': {'Message': 'The value  is not valid for the parameter QuestionXML. (1652722826414 s)', 'Code': 'ParameterValidationError'}, 'ResponseMetadata': {'RequestId': '21b0f601-4f19-486f-9764-65e6060964e0', 'HTTPStatusCode': 400, 'HTTPHeaders': {'x-amzn-requestid': '21b0f601-4f19-486f-9764-65e6060964e0', 'content-type': 'application/x-amz-json-1.1', 'content-length': '207', 'date': 'Mon, 16 May 2022 17:40:26 GMT', 'connection': 'close'}, 'RetryAttempts': 0}}, 'operation_name': 'CreateHIT'}\n",
      "> \u001b[1;32m<ipython-input-52-2c1c5e67f418>\u001b[0m(55)\u001b[0;36m<module>\u001b[1;34m()\u001b[0m\n",
      "\u001b[1;32m     53 \u001b[1;33m            \u001b[1;32melse\u001b[0m\u001b[1;33m:\u001b[0m\u001b[1;33m\u001b[0m\u001b[1;33m\u001b[0m\u001b[0m\n",
      "\u001b[0m\u001b[1;32m     54 \u001b[1;33m                \u001b[0mpdb\u001b[0m\u001b[1;33m.\u001b[0m\u001b[0mset_trace\u001b[0m\u001b[1;33m(\u001b[0m\u001b[1;33m)\u001b[0m\u001b[1;33m\u001b[0m\u001b[1;33m\u001b[0m\u001b[0m\n",
      "\u001b[0m\u001b[1;32m---> 55 \u001b[1;33m                \u001b[1;32mraise\u001b[0m\u001b[1;33m\u001b[0m\u001b[1;33m\u001b[0m\u001b[0m\n",
      "\u001b[0m\u001b[1;32m     56 \u001b[1;33m        \u001b[1;32mexcept\u001b[0m \u001b[0mException\u001b[0m \u001b[1;32mas\u001b[0m \u001b[0me\u001b[0m\u001b[1;33m:\u001b[0m\u001b[1;33m\u001b[0m\u001b[1;33m\u001b[0m\u001b[0m\n",
      "\u001b[0m\u001b[1;32m     57 \u001b[1;33m            \u001b[0mpdb\u001b[0m\u001b[1;33m.\u001b[0m\u001b[0mset_trace\u001b[0m\u001b[1;33m(\u001b[0m\u001b[1;33m)\u001b[0m\u001b[1;33m\u001b[0m\u001b[1;33m\u001b[0m\u001b[0m\n",
      "\u001b[0m\n",
      "ipdb> c\n"
     ]
    },
    {
     "ename": "ClientError",
     "evalue": "An error occurred (ParameterValidationError) when calling the CreateHIT operation: The value  is not valid for the parameter QuestionXML. (1652722826414 s)",
     "output_type": "error",
     "traceback": [
      "\u001b[1;31m---------------------------------------------------------------------------\u001b[0m",
      "\u001b[1;31mClientError\u001b[0m                               Traceback (most recent call last)",
      "\u001b[1;32m<ipython-input-52-2c1c5e67f418>\u001b[0m in \u001b[0;36m<module>\u001b[1;34m\u001b[0m\n\u001b[0;32m     22\u001b[0m             \u001b[0mrandom\u001b[0m\u001b[1;33m.\u001b[0m\u001b[0mseed\u001b[0m\u001b[1;33m(\u001b[0m\u001b[1;32mNone\u001b[0m\u001b[1;33m)\u001b[0m\u001b[1;33m\u001b[0m\u001b[1;33m\u001b[0m\u001b[0m\n\u001b[0;32m     23\u001b[0m             \u001b[0mlanguage_questions\u001b[0m \u001b[1;33m=\u001b[0m \u001b[0mrandom\u001b[0m\u001b[1;33m.\u001b[0m\u001b[0msample\u001b[0m\u001b[1;33m(\u001b[0m\u001b[0mlanguage_tests\u001b[0m\u001b[1;33m[\u001b[0m\u001b[1;34m'en'\u001b[0m\u001b[1;33m]\u001b[0m\u001b[1;33m,\u001b[0m\u001b[0mk\u001b[0m\u001b[1;33m=\u001b[0m\u001b[1;36m4\u001b[0m\u001b[1;33m)\u001b[0m\u001b[1;33m\u001b[0m\u001b[1;33m\u001b[0m\u001b[0m\n\u001b[1;32m---> 24\u001b[1;33m             response = mt.create_hit(\n\u001b[0m\u001b[0;32m     25\u001b[0m                 \u001b[0mhtml_layout\u001b[0m\u001b[1;33m.\u001b[0m\u001b[0mreplace\u001b[0m\u001b[1;33m(\u001b[0m\u001b[1;34m'${affirmation_evidence_pairs}$'\u001b[0m\u001b[1;33m,\u001b[0m \u001b[0mstr\u001b[0m\u001b[1;33m(\u001b[0m\u001b[0mtaskSet\u001b[0m\u001b[1;33m[\u001b[0m\u001b[1;34m'taskSet'\u001b[0m\u001b[1;33m]\u001b[0m\u001b[1;33m)\u001b[0m\u001b[1;33m)\u001b[0m\u001b[1;33m.\u001b[0m\u001b[0;31m\\\u001b[0m\u001b[1;33m\u001b[0m\u001b[1;33m\u001b[0m\u001b[0m\n\u001b[0;32m     26\u001b[0m                             \u001b[0mreplace\u001b[0m\u001b[1;33m(\u001b[0m\u001b[1;34m'${attention_questions}$'\u001b[0m\u001b[1;33m,\u001b[0m \u001b[0mjson\u001b[0m\u001b[1;33m.\u001b[0m\u001b[0mdumps\u001b[0m\u001b[1;33m(\u001b[0m\u001b[0mlanguage_questions\u001b[0m\u001b[1;33m)\u001b[0m\u001b[1;33m)\u001b[0m\u001b[1;33m,\u001b[0m\u001b[1;33m\u001b[0m\u001b[1;33m\u001b[0m\u001b[0m\n",
      "\u001b[1;32m~\\Documents\\Repos\\ClaimVerificationHIT\\task_deploy_and_analysis\\notebooks\\mturk.py\u001b[0m in \u001b[0;36mcreate_hit\u001b[1;34m(self, html_layout, **TaskAttributes)\u001b[0m\n\u001b[0;32m     46\u001b[0m         \u001b[0mquestion_xml\u001b[0m \u001b[1;33m=\u001b[0m \u001b[0mQUESTION_XML\u001b[0m\u001b[1;33m.\u001b[0m\u001b[0mformat\u001b[0m\u001b[1;33m(\u001b[0m\u001b[0mhtml_layout\u001b[0m\u001b[1;33m)\u001b[0m\u001b[1;33m\u001b[0m\u001b[1;33m\u001b[0m\u001b[0m\n\u001b[0;32m     47\u001b[0m \u001b[1;33m\u001b[0m\u001b[0m\n\u001b[1;32m---> 48\u001b[1;33m         response = self.client.create_hit(\n\u001b[0m\u001b[0;32m     49\u001b[0m         \u001b[1;33m**\u001b[0m\u001b[0mTaskAttributes\u001b[0m\u001b[1;33m,\u001b[0m\u001b[1;33m\u001b[0m\u001b[1;33m\u001b[0m\u001b[0m\n\u001b[0;32m     50\u001b[0m             \u001b[0mQuestion\u001b[0m\u001b[1;33m=\u001b[0m\u001b[0mquestion_xml\u001b[0m\u001b[1;33m\u001b[0m\u001b[1;33m\u001b[0m\u001b[0m\n",
      "\u001b[1;32m~\\anaconda3\\envs\\phd\\lib\\site-packages\\botocore\\client.py\u001b[0m in \u001b[0;36m_api_call\u001b[1;34m(self, *args, **kwargs)\u001b[0m\n\u001b[0;32m    355\u001b[0m                     \"%s() only accepts keyword arguments.\" % py_operation_name)\n\u001b[0;32m    356\u001b[0m             \u001b[1;31m# The \"self\" in this scope is referring to the BaseClient.\u001b[0m\u001b[1;33m\u001b[0m\u001b[1;33m\u001b[0m\u001b[1;33m\u001b[0m\u001b[0m\n\u001b[1;32m--> 357\u001b[1;33m             \u001b[1;32mreturn\u001b[0m \u001b[0mself\u001b[0m\u001b[1;33m.\u001b[0m\u001b[0m_make_api_call\u001b[0m\u001b[1;33m(\u001b[0m\u001b[0moperation_name\u001b[0m\u001b[1;33m,\u001b[0m \u001b[0mkwargs\u001b[0m\u001b[1;33m)\u001b[0m\u001b[1;33m\u001b[0m\u001b[1;33m\u001b[0m\u001b[0m\n\u001b[0m\u001b[0;32m    358\u001b[0m \u001b[1;33m\u001b[0m\u001b[0m\n\u001b[0;32m    359\u001b[0m         \u001b[0m_api_call\u001b[0m\u001b[1;33m.\u001b[0m\u001b[0m__name__\u001b[0m \u001b[1;33m=\u001b[0m \u001b[0mstr\u001b[0m\u001b[1;33m(\u001b[0m\u001b[0mpy_operation_name\u001b[0m\u001b[1;33m)\u001b[0m\u001b[1;33m\u001b[0m\u001b[1;33m\u001b[0m\u001b[0m\n",
      "\u001b[1;32m~\\anaconda3\\envs\\phd\\lib\\site-packages\\botocore\\client.py\u001b[0m in \u001b[0;36m_make_api_call\u001b[1;34m(self, operation_name, api_params)\u001b[0m\n\u001b[0;32m    674\u001b[0m             \u001b[0merror_code\u001b[0m \u001b[1;33m=\u001b[0m \u001b[0mparsed_response\u001b[0m\u001b[1;33m.\u001b[0m\u001b[0mget\u001b[0m\u001b[1;33m(\u001b[0m\u001b[1;34m\"Error\"\u001b[0m\u001b[1;33m,\u001b[0m \u001b[1;33m{\u001b[0m\u001b[1;33m}\u001b[0m\u001b[1;33m)\u001b[0m\u001b[1;33m.\u001b[0m\u001b[0mget\u001b[0m\u001b[1;33m(\u001b[0m\u001b[1;34m\"Code\"\u001b[0m\u001b[1;33m)\u001b[0m\u001b[1;33m\u001b[0m\u001b[1;33m\u001b[0m\u001b[0m\n\u001b[0;32m    675\u001b[0m             \u001b[0merror_class\u001b[0m \u001b[1;33m=\u001b[0m \u001b[0mself\u001b[0m\u001b[1;33m.\u001b[0m\u001b[0mexceptions\u001b[0m\u001b[1;33m.\u001b[0m\u001b[0mfrom_code\u001b[0m\u001b[1;33m(\u001b[0m\u001b[0merror_code\u001b[0m\u001b[1;33m)\u001b[0m\u001b[1;33m\u001b[0m\u001b[1;33m\u001b[0m\u001b[0m\n\u001b[1;32m--> 676\u001b[1;33m             \u001b[1;32mraise\u001b[0m \u001b[0merror_class\u001b[0m\u001b[1;33m(\u001b[0m\u001b[0mparsed_response\u001b[0m\u001b[1;33m,\u001b[0m \u001b[0moperation_name\u001b[0m\u001b[1;33m)\u001b[0m\u001b[1;33m\u001b[0m\u001b[1;33m\u001b[0m\u001b[0m\n\u001b[0m\u001b[0;32m    677\u001b[0m         \u001b[1;32melse\u001b[0m\u001b[1;33m:\u001b[0m\u001b[1;33m\u001b[0m\u001b[1;33m\u001b[0m\u001b[0m\n\u001b[0;32m    678\u001b[0m             \u001b[1;32mreturn\u001b[0m \u001b[0mparsed_response\u001b[0m\u001b[1;33m\u001b[0m\u001b[1;33m\u001b[0m\u001b[0m\n",
      "\u001b[1;31mClientError\u001b[0m: An error occurred (ParameterValidationError) when calling the CreateHIT operation: The value  is not valid for the parameter QuestionXML. (1652722826414 s)"
     ]
    }
   ],
   "source": [
    "\"\"\" Create the batch of HITs \"\"\"\n",
    "\n",
    "results = []\n",
    "batch_id = str(uuid.uuid4())\n",
    "\n",
    "start_from = 30\n",
    "\n",
    "hit_type_id = ''\n",
    "target_assignments = TaskAttributes['MaxAssignments']\n",
    "for idx, taskSet in enumerate(taskSets):\n",
    "    print(f\"{idx}: {taskSet['_id']}\")\n",
    "    if idx<start_from:\n",
    "        continue\n",
    "    TaskAttributes_hit = copy.deepcopy(TaskAttributes) # Adjust based on how many were already done in other batches\n",
    "    TaskAttributes_hit['MaxAssignments'] = target_assignments -\\\n",
    "        sum([hit['hit']['NumberOfAssignmentsCompleted'] for hit in hit_result_collection.find({\n",
    "            'taskSet_id':taskSet['_id'],\n",
    "            'type': task_content['type']\n",
    "        })])\n",
    "    if TaskAttributes_hit['MaxAssignments'] > 0:\n",
    "        try:\n",
    "            random.seed(None)\n",
    "            language_questions = random.sample(language_tests['en'],k=4)\n",
    "            response = mt.create_hit(\n",
    "                html_layout.replace('${affirmation_evidence_pairs}$', str(taskSet['taskSet'])).\\\n",
    "                            replace('${attention_questions}$', json.dumps(language_questions)),\n",
    "                **TaskAttributes_hit\n",
    "            )\n",
    "\n",
    "            hit_type_id = response['HIT']['HITTypeId']\n",
    "            result = {\n",
    "                '_id': response['HIT']['HITId'],\n",
    "                'batch_id': batch_id,\n",
    "                'type': task_content['type'],\n",
    "                'taskSet': taskSet['taskSet'],\n",
    "                'attention_test': language_questions,\n",
    "                'taskSet_id':taskSet['_id'],\n",
    "                'hit': response['HIT'],\n",
    "                'timestamp': datetime.now()\n",
    "            }\n",
    "            results.append(result)\n",
    "            hit_result_collection.insert_one(result)\n",
    "        except botocore.exceptions.ClientError as e:\n",
    "            print(e.__dict__)\n",
    "            if e.response['Error']['Code'] == 'RequestError':\n",
    "                # Not enough funds\n",
    "                print(\"Funds ran out! The last hit above was not launched! Please recharge!\")\n",
    "                break\n",
    "            elif e.response['Error']['Code'] == 'ThrottlingException':    \n",
    "                pdb.set_trace()              \n",
    "                print(\"Turn off the database updater!\")\n",
    "                continue\n",
    "            else:\n",
    "                pdb.set_trace()            \n",
    "                raise\n",
    "        except Exception as e:\n",
    "            pdb.set_trace()            \n",
    "            raise\n",
    "        #except:\n",
    "        #    pdb.set_trace()            \n",
    "        #    raise\n",
    "\n",
    "# For you to go to the HITs you just created and test them\n",
    "print('Launched tasks')\n",
    "if not create_hits_in_production:\n",
    "    print('You can view the HITs here:')\n",
    "    print(mt.mturk_environment['preview']+\"?groupId={}\".format(hit_type_id))\n",
    "else:\n",
    "    print('Launched! Good Luck!')\n",
    "    \n",
    "print('Batch ID is',batch_id)"
   ]
  },
  {
   "cell_type": "code",
   "execution_count": 49,
   "metadata": {
    "scrolled": false
   },
   "outputs": [
    {
     "name": "stdout",
     "output_type": "stream",
     "text": [
      "Removed 3KTZHH2OOLRKTN05R70Q2087MD78MK\n",
      "Finished\n"
     ]
    }
   ],
   "source": [
    "# REMOVING FINISHED TASKS FROM THE UPDATE QUEUE\n",
    "\n",
    "\"\"\" If you set 'force' to TRUE, it will abort mission and force an expiry in all HITs and then delete them.\n",
    "If you only want to remove the completed ones (make them Disposed so the update routine won't loop through tons of\n",
    "HITs), keep it as FALSE.\"\"\"\n",
    "force = False\n",
    "while True:\n",
    "    ''' Dispose all hits in the database '''\n",
    "    query = {'hit.HITStatus': {'$ne': 'Disposed'}}\n",
    "    #query['type'] = 'relevance'\n",
    "    if not force:\n",
    "        query['hit.NumberOfAssignmentsPending'] = 0\n",
    "        query['hit.NumberOfAssignmentsAvailable'] = 0\n",
    "    elif force:\n",
    "        query['hit.NumberOfAssignmentsPending'] = 0\n",
    "    hit_result_collection_list = list(hit_result_collection.find(query))\n",
    "    if (not force and len(hit_result_collection_list) == 0) or (force and mt.client.list_hits()['NumResults']==0):\n",
    "    #if len(list(hit_result_collection.find({'hit.HITStatus': {'$not': {'$eq': 'Disposed'}}, 'type':'relevance'}))) == 0:\n",
    "        print('Finished')\n",
    "        break\n",
    "    for hit in hit_result_collection_list:\n",
    "        try:\n",
    "            #print(f'Trying to remove {hit[\"_id\"]}')\n",
    "            mt.client.delete_hit(HITId = hit['_id'])\n",
    "            print('Removed',hit['_id'])\n",
    "        except Exception as e:\n",
    "            #print('Level 1', hit['_id'], e)\n",
    "            if force:\n",
    "                try:\n",
    "                    mt.client.update_expiration_for_hit(HITId = hit['_id'], ExpireAt=datetime(2017, 1, 1))\n",
    "                    mt.client.delete_hit(HITId = hit['_id'])\n",
    "                    print('Removed',hit['_id'])\n",
    "                except Exception as e:\n",
    "                    #print('Level 2', hit['_id'],e)\n",
    "                    pass\n",
    "            continue"
   ]
  },
  {
   "cell_type": "markdown",
   "metadata": {},
   "source": [
    "# MISC"
   ]
  },
  {
   "cell_type": "code",
   "execution_count": 36,
   "metadata": {},
   "outputs": [
    {
     "data": {
      "text/plain": [
       "{'AvailableBalance': '10000.00',\n",
       " 'ResponseMetadata': {'RequestId': 'cac83b9b-d08b-477e-a444-cb6347002975',\n",
       "  'HTTPStatusCode': 200,\n",
       "  'HTTPHeaders': {'x-amzn-requestid': 'cac83b9b-d08b-477e-a444-cb6347002975',\n",
       "   'content-type': 'application/x-amz-json-1.1',\n",
       "   'content-length': '31',\n",
       "   'date': 'Wed, 06 Oct 2021 16:05:21 GMT'},\n",
       "  'RetryAttempts': 0}}"
      ]
     },
     "execution_count": 36,
     "metadata": {},
     "output_type": "execute_result"
    }
   ],
   "source": [
    "mt.client.get_account_balance()"
   ]
  },
  {
   "cell_type": "code",
   "execution_count": 8,
   "metadata": {},
   "outputs": [
    {
     "data": {
      "text/plain": [
       "{'ResponseMetadata': {'RequestId': 'a038b160-0721-4475-bbfd-ee73cf5fe3b9',\n",
       "  'HTTPStatusCode': 200,\n",
       "  'HTTPHeaders': {'x-amzn-requestid': 'a038b160-0721-4475-bbfd-ee73cf5fe3b9',\n",
       "   'content-type': 'application/x-amz-json-1.1',\n",
       "   'content-length': '2',\n",
       "   'date': 'Fri, 13 Aug 2021 18:45:26 GMT'},\n",
       "  'RetryAttempts': 0}}"
      ]
     },
     "execution_count": 8,
     "metadata": {},
     "output_type": "execute_result"
    }
   ],
   "source": [
    "#mt.client.send_bonus(\n",
    "#    WorkerId='-',\n",
    "#    BonusAmount='-',\n",
    "#    AssignmentId='-',\n",
    "#    Reason='feedback'\n",
    "#)"
   ]
  },
  {
   "cell_type": "code",
   "execution_count": 38,
   "metadata": {
    "scrolled": true
   },
   "outputs": [
    {
     "data": {
      "text/plain": [
       "{'NumResults': 0,\n",
       " 'HITs': [],\n",
       " 'ResponseMetadata': {'RequestId': '473b5051-fa30-48cd-8b87-4bd024bfebdf',\n",
       "  'HTTPStatusCode': 200,\n",
       "  'HTTPHeaders': {'x-amzn-requestid': '473b5051-fa30-48cd-8b87-4bd024bfebdf',\n",
       "   'content-type': 'application/x-amz-json-1.1',\n",
       "   'content-length': '26',\n",
       "   'date': 'Wed, 06 Oct 2021 16:07:04 GMT'},\n",
       "  'RetryAttempts': 0}}"
      ]
     },
     "execution_count": 38,
     "metadata": {},
     "output_type": "execute_result"
    }
   ],
   "source": [
    "# CLEANING LEFTOVERS\n",
    "\n",
    "mt.client.list_hits(MaxResults=100)\n",
    "#hitid = '3M93N4X8INZCBZ9T28UOVALJBK2SJO'\n",
    "#mt.client.update_expiration_for_hit(HITId = hitid, ExpireAt=datetime(2018, 1, 1))\n",
    "#mt.get_hit_answers(HITId = hitid, approve=True)\n",
    "#mt.client.delete_hit(HITId = hitid)"
   ]
  },
  {
   "cell_type": "code",
   "execution_count": null,
   "metadata": {},
   "outputs": [],
   "source": []
  }
 ],
 "metadata": {
  "kernelspec": {
   "display_name": "Python 3",
   "language": "python",
   "name": "python3"
  },
  "language_info": {
   "codemirror_mode": {
    "name": "ipython",
    "version": 3
   },
   "file_extension": ".py",
   "mimetype": "text/x-python",
   "name": "python",
   "nbconvert_exporter": "python",
   "pygments_lexer": "ipython3",
   "version": "3.8.5"
  }
 },
 "nbformat": 4,
 "nbformat_minor": 2
}
