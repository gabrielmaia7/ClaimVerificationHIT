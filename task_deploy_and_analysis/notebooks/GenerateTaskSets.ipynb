{
 "cells": [
  {
   "cell_type": "code",
   "execution_count": 1,
   "metadata": {},
   "outputs": [],
   "source": [
    "import json\n",
    "import random\n",
    "import uuid\n",
    "import numpy as np\n",
    "import time\n",
    "import requests\n",
    "import traceback\n",
    "import math\n",
    "import ast\n",
    "import pandas as pd\n",
    "import pdb\n",
    "from tqdm.auto import tqdm\n",
    "tqdm.pandas()"
   ]
  },
  {
   "cell_type": "markdown",
   "metadata": {},
   "source": [
    "# Functions"
   ]
  },
  {
   "cell_type": "code",
   "execution_count": 2,
   "metadata": {},
   "outputs": [],
   "source": [
    "def convert_df_to_json_set_SINGLE(df):\n",
    "    microtask_jsons = []\n",
    "    padding = 100\n",
    "    try:\n",
    "        for idx, row in tqdm(df.iterrows(), total=df.shape[0]):\n",
    "            for idy, evidence in enumerate(row['nlp_sentences_all_TOP_N']):\n",
    "                \n",
    "                # Let us retrieve the sections before and after the evidence. 100 characters to each side will do.\n",
    "                all_sentences = row['nlp_sentences']    \n",
    "                \n",
    "                evidence_idx = evidence['sentence_id']\n",
    "                if ';' in evidence_idx:\n",
    "                    before_idx = int(evidence_idx.split(';')[0])-1\n",
    "                    after_idx = int(evidence_idx.split(';')[1])+1\n",
    "                else:                    \n",
    "                    before_idx = int(evidence_idx)-1\n",
    "                    after_idx = int(evidence_idx)+1\n",
    "                    \n",
    "                pre_evidence = []\n",
    "                for i in range(before_idx,-1,-1):\n",
    "                    pre_evidence.insert(0, all_sentences[i])\n",
    "                    if len(' '.join(pre_evidence))>=100:\n",
    "                        break\n",
    "                pre_evidence = ' '.join(pre_evidence)\n",
    "                \n",
    "                post_evidence = []\n",
    "                for i in range(after_idx,len(all_sentences)):\n",
    "                    post_evidence.append(all_sentences[i])\n",
    "                    if len(' '.join(post_evidence))>=100:\n",
    "                        break\n",
    "                post_evidence = ' '.join(post_evidence)\n",
    "                \n",
    "                assert ' '.join([pre_evidence, evidence['sentence'], post_evidence]).strip() in ' '.join(all_sentences)\n",
    "                \n",
    "                microtask_json = {\n",
    "                    \"claim_id\": row['claim_id'],\n",
    "                    \"reference_id\": row['reference_id'],\n",
    "                    \"evidence_id\": idy,\n",
    "                    \"sentence_id\": evidence_idx,\n",
    "                    \"score\": evidence['score'],\n",
    "                    \"affirmation\": row['final_verbalisation'],\n",
    "                    \"pre_evidence\": pre_evidence,\n",
    "                    \"evidence\": evidence['sentence'],\n",
    "                    \"post_evidence\": post_evidence,\n",
    "                    \"reference_url\": row['final_url'],\n",
    "                    \"g_id\": -1\n",
    "                }\n",
    "                microtask_jsons.append(microtask_json)\n",
    "                #raise ValueError\n",
    "                \n",
    "        return microtask_jsons\n",
    "    except Exception:\n",
    "        print(' '.join([pre_evidence, evidence['sentence'], post_evidence]))\n",
    "        #print(pre_evidence)\n",
    "        #print('--')\n",
    "        #print(evidence['sentence'])\n",
    "        #print('--')\n",
    "        #print(post_evidence)\n",
    "        print('--')\n",
    "        print(' '.join(all_sentences))\n",
    "        #print(row)\n",
    "        #traceback.print_exc()\n",
    "        #pdb.set_trace()\n",
    "        raise\n",
    "        \n",
    "def convert_df_to_json_set_MULTIPLE(df):\n",
    "    microtask_jsons = []\n",
    "    padding = 100\n",
    "    try:\n",
    "        for idx, row in tqdm(df.iterrows(), total=df.shape[0]):\n",
    "            evidence_list = []\n",
    "            all_sentences = row['nlp_sentences']\n",
    "            \n",
    "            for idy, evidence in enumerate(row['nlp_sentences_all_TOP_N']):\n",
    "                              \n",
    "                evidence_idx = evidence['sentence_id']\n",
    "                if ';' in evidence_idx:\n",
    "                    before_idx = int(evidence_idx.split(';')[0])-1\n",
    "                    after_idx = int(evidence_idx.split(';')[1])+1\n",
    "                else:                    \n",
    "                    before_idx = int(evidence_idx)-1\n",
    "                    after_idx = int(evidence_idx)+1\n",
    "                    \n",
    "                pre_evidence = []\n",
    "                for i in range(before_idx,-1,-1):\n",
    "                    pre_evidence.insert(0, all_sentences[i])\n",
    "                    if len(' '.join(pre_evidence))>=100:\n",
    "                        break\n",
    "                pre_evidence = ' '.join(pre_evidence)\n",
    "                \n",
    "                post_evidence = []\n",
    "                for i in range(after_idx,len(all_sentences)):\n",
    "                    post_evidence.append(all_sentences[i])\n",
    "                    if len(' '.join(post_evidence))>=100:\n",
    "                        break\n",
    "                post_evidence = ' '.join(post_evidence)\n",
    "                \n",
    "                assert ' '.join([pre_evidence, evidence['sentence'], post_evidence]).strip() in ' '.join(all_sentences)\n",
    "                \n",
    "                evidence_list.append({\n",
    "                    \"evidence_id\": idy,\n",
    "                    \"sentence_id\": evidence_idx,\n",
    "                    \"score\": evidence['score'],\n",
    "                    \"pre_evidence\": pre_evidence,\n",
    "                    \"evidence\": evidence['sentence'],\n",
    "                    \"post_evidence\": post_evidence,\n",
    "                })\n",
    "            evidence_list_shuffle = random.Random(\n",
    "                len(evidence_list[0]['evidence'])\n",
    "            ).sample(evidence_list, len(evidence_list))    \n",
    "            microtask_json = {\n",
    "                \"claim_id\": row['claim_id'],\n",
    "                \"reference_id\": row['reference_id'],\n",
    "                \"affirmation\": row['final_verbalisation'],\n",
    "                \"reference_url\": row['final_url'],\n",
    "                \"g_id\": -1,\n",
    "                \"evidence_list\": evidence_list_shuffle\n",
    "            }\n",
    "            microtask_jsons.append(microtask_json)\n",
    "                \n",
    "        return microtask_jsons\n",
    "    except Exception:\n",
    "        print(' '.join([pre_evidence, evidence['sentence'], post_evidence]))\n",
    "        #print(pre_evidence)\n",
    "        #print('--')\n",
    "        #print(evidence['sentence'])\n",
    "        #print('--')\n",
    "        #print(post_evidence)\n",
    "        print('--')\n",
    "        print(' '.join(all_sentences))\n",
    "        #print(row)\n",
    "        #traceback.print_exc()\n",
    "        #pdb.set_trace()\n",
    "        raise"
   ]
  },
  {
   "cell_type": "code",
   "execution_count": 3,
   "metadata": {},
   "outputs": [],
   "source": [
    "#maxSingleInstances = 1 #MAX TIMES ANY REFERENCE APPEARS AMONG THE TASK SETS\n",
    "#maxSingleInstances_gd = 2\n",
    "\n",
    "def getRandomTask(counter, n, non_gd_references, maxSingleInstances):\n",
    "    p = [max(maxSingleInstances-c,0.00001) for c in counter]\n",
    "    p = [pp/sum(p) for pp in p]\n",
    "    indexes = np.random.choice(\n",
    "        a = list(range(len(non_gd_references))),\n",
    "        size=n,\n",
    "        replace=False,\n",
    "        p=p\n",
    "    )        \n",
    "    task = []\n",
    "    for i in indexes:\n",
    "        reference = non_gd_references[i]\n",
    "        task.append((reference,i))\n",
    "    return task\n",
    "\n",
    "def getRandomGoldenTask(counter, n, gd_references, maxSingleInstances_gd):    \n",
    "    p = [max(maxSingleInstances_gd-c,0.00001) for c in counter]\n",
    "    p = [pp/sum(p) for pp in p]\n",
    "    indexes = np.random.choice(\n",
    "        a = list(range(len(gd_references))),\n",
    "        size=n,\n",
    "        replace=False,\n",
    "        p=p\n",
    "    )\n",
    "    task = []\n",
    "    for i in indexes:\n",
    "        reference = gd_references[i]\n",
    "        task.append((reference,i))\n",
    "    return task\n",
    "\n",
    "def generateTaskSet(counter, counter_gd, non_gd_references, gd_references, maxSingleInstances, maxSingleInstances_gd, n=(4,2)):\n",
    "    '''\n",
    "    counter = a counter which keeps track of how many times each reference was retrieved\n",
    "    n = (x,y) where x = number of non_gd references and y = number of gd references\n",
    "    '''\n",
    "    taskSet = []\n",
    "    task = getRandomTask(counter, n[0], non_gd_references, maxSingleInstances)\n",
    "    taskSet += [r for (r,i) in task] # pairs reference,index are generated here, so that we can update the counter later\n",
    "    task_gd = getRandomGoldenTask(counter_gd, n[1], gd_references, maxSingleInstances_gd)\n",
    "    taskSet += [r for (r,i) in task_gd]\n",
    "    taskSet_shuffle = random.Random(42).sample(taskSet, len(taskSet))\n",
    "    return taskSet_shuffle, [i for (p,i) in task], [i for (p,i) in task_gd] # we return indices here to update counter\n",
    "\n",
    "\n",
    "def generateIDdTaskSets(non_gd_references, gd_references, maxSingleInstances, maxSingleInstances_gd):\n",
    "    counter = [0]*len(non_gd_references)\n",
    "    counter_gd = [0]*len(gd_references)\n",
    "    taskSets = []\n",
    "    while (any([c < maxSingleInstances for c in counter])):\n",
    "        taskSet, indexes, indexes_gd = generateTaskSet(counter, counter_gd, non_gd_references,\n",
    "                                                       gd_references, maxSingleInstances, maxSingleInstances_gd)\n",
    "        taskSetIDd = {\n",
    "            '_id': str(uuid.uuid4()),\n",
    "            'taskSet' : taskSet\n",
    "        }\n",
    "        taskSets.append(taskSetIDd)\n",
    "        for i in indexes:\n",
    "            counter[i] = counter[i] + 1\n",
    "        for i in indexes_gd:\n",
    "            counter_gd[i] = counter_gd[i] + 1\n",
    "    return taskSets, counter, counter_gd"
   ]
  },
  {
   "cell_type": "markdown",
   "metadata": {},
   "source": [
    "# Data"
   ]
  },
  {
   "cell_type": "code",
   "execution_count": 4,
   "metadata": {},
   "outputs": [
    {
     "name": "stdout",
     "output_type": "stream",
     "text": [
      "<class 'pandas.core.frame.DataFrame'>\n",
      "RangeIndex: 409 entries, 0 to 408\n",
      "Data columns (total 17 columns):\n",
      " #   Column                                 Non-Null Count  Dtype  \n",
      "---  ------                                 --------------  -----  \n",
      " 0   reference_id                           409 non-null    object \n",
      " 1   claim_id                               409 non-null    object \n",
      " 2   final_verbalisation                    409 non-null    object \n",
      " 3   sampling_weight                        409 non-null    float64\n",
      " 4   final_url                              409 non-null    object \n",
      " 5   netloc_agg                             409 non-null    object \n",
      " 6   nlp_sentences                          409 non-null    object \n",
      " 7   nlp_sentences_slide_2                  409 non-null    object \n",
      " 8   nlp_sentences_scores                   409 non-null    object \n",
      " 9   nlp_sentences_slide_2_scores           409 non-null    object \n",
      " 10  nlp_sentences_all_TOP_N                409 non-null    object \n",
      " 11  evidence_TE_prob_all_TOP_N             409 non-null    object \n",
      " 12  evidence_TE_prob_weighted_all_TOP_N    409 non-null    object \n",
      " 13  evidence_TE_labels_all_TOP_N           409 non-null    object \n",
      " 14  claim_TE_prob_weighted_sum_all_TOP_N   409 non-null    object \n",
      " 15  claim_TE_label_weighted_sum_all_TOP_N  409 non-null    object \n",
      " 16  claim_TE_label_malon_all_TOP_N         409 non-null    object \n",
      "dtypes: float64(1), object(16)\n",
      "memory usage: 54.4+ KB\n"
     ]
    }
   ],
   "source": [
    "data_df = pd.read_json('../data/textual_entailment_df_2.json')\n",
    "data_df = data_df.drop([c for c in data_df.columns if 'TOP_N' in c and 'all_TOP_N' not in c], axis=1)\n",
    "data_df.info()"
   ]
  },
  {
   "cell_type": "markdown",
   "metadata": {},
   "source": [
    "Estimated cost of running **single evidence (T1)** tasks for all 409 verbalisations, paying 0.5 per task is:"
   ]
  },
  {
   "cell_type": "code",
   "execution_count": 7,
   "metadata": {},
   "outputs": [
    {
     "data": {
      "text/plain": [
       "1500.0"
      ]
     },
     "execution_count": 7,
     "metadata": {},
     "output_type": "execute_result"
    }
   ],
   "source": [
    "((data_df.shape[0]*5)-45)/4*5*0.5*1.2"
   ]
  },
  {
   "cell_type": "markdown",
   "metadata": {},
   "source": [
    "Whereas for the **multiple evidence (T2)** task paying $1 each, they are:"
   ]
  },
  {
   "cell_type": "code",
   "execution_count": 8,
   "metadata": {},
   "outputs": [
    {
     "data": {
      "text/plain": [
       "546.0"
      ]
     },
     "execution_count": 8,
     "metadata": {},
     "output_type": "execute_result"
    }
   ],
   "source": [
    "(data_df_trim_good.shape[0]-45)/4*5*1*1.2"
   ]
  },
  {
   "cell_type": "markdown",
   "metadata": {},
   "source": [
    "For a total of 1787.5, which is ok"
   ]
  },
  {
   "cell_type": "code",
   "execution_count": 9,
   "metadata": {},
   "outputs": [],
   "source": [
    "task_data = data_df"
   ]
  },
  {
   "cell_type": "code",
   "execution_count": 10,
   "metadata": {},
   "outputs": [],
   "source": [
    "task_data.to_json('../data/textual_entailment_df_filtered_for_crowdsourcing.json',orient='records',indent=4)"
   ]
  },
  {
   "cell_type": "markdown",
   "metadata": {},
   "source": [
    "# PILOT\n",
    "\n",
    "If we select 20 entries that means:\n",
    "\n",
    "- For the **single evidence** task, we will have 20\\*5 = 100 subtasks\n",
    "    - Taking 8 as golden data means (100-8)/4 = **23** tasks.\n",
    "    - Giving \\\\$0.5 per task, giving them for 5 annotators, with 20\\% to Amazon, means 23\\*5\\*0.5\\*1.2 = \\\\$69.\n",
    "- For the **multiple evidence** task, we will have 20 subtasks\n",
    "    - Taking 4 as golden data means (20-4)/4 = **4** tasks.\n",
    "    - Giving \\\\$1 per task, giving them for 5 annotators, with 20\\% to Amazon, means 4\\*5\\*1\\*1.2 = \\\\$24.\n",
    "    \n",
    "Total Pilot cost = $93"
   ]
  },
  {
   "cell_type": "code",
   "execution_count": 11,
   "metadata": {},
   "outputs": [],
   "source": [
    "task_data = pd.read_json('../data/textual_entailment_df_filtered_for_crowdsourcing.json')"
   ]
  },
  {
   "cell_type": "code",
   "execution_count": 18,
   "metadata": {
    "scrolled": false
   },
   "outputs": [
    {
     "name": "stdout",
     "output_type": "stream",
     "text": [
      "<class 'pandas.core.frame.DataFrame'>\n",
      "Int64Index: 20 entries, 172 to 77\n",
      "Data columns (total 17 columns):\n",
      " #   Column                                 Non-Null Count  Dtype  \n",
      "---  ------                                 --------------  -----  \n",
      " 0   reference_id                           20 non-null     object \n",
      " 1   claim_id                               20 non-null     object \n",
      " 2   final_verbalisation                    20 non-null     object \n",
      " 3   sampling_weight                        20 non-null     float64\n",
      " 4   final_url                              20 non-null     object \n",
      " 5   netloc_agg                             20 non-null     object \n",
      " 6   nlp_sentences                          20 non-null     object \n",
      " 7   nlp_sentences_slide_2                  20 non-null     object \n",
      " 8   nlp_sentences_scores                   20 non-null     object \n",
      " 9   nlp_sentences_slide_2_scores           20 non-null     object \n",
      " 10  nlp_sentences_all_TOP_N                20 non-null     object \n",
      " 11  evidence_TE_prob_all_TOP_N             20 non-null     object \n",
      " 12  evidence_TE_prob_weighted_all_TOP_N    20 non-null     object \n",
      " 13  evidence_TE_labels_all_TOP_N           20 non-null     object \n",
      " 14  claim_TE_prob_weighted_sum_all_TOP_N   20 non-null     object \n",
      " 15  claim_TE_label_weighted_sum_all_TOP_N  20 non-null     object \n",
      " 16  claim_TE_label_malon_all_TOP_N         20 non-null     object \n",
      "dtypes: float64(1), object(16)\n",
      "memory usage: 2.8+ KB\n"
     ]
    }
   ],
   "source": [
    "task_data_pilot= task_data.sample(20, random_state=42)\n",
    "task_data_pilot.info()"
   ]
  },
  {
   "cell_type": "code",
   "execution_count": 19,
   "metadata": {
    "scrolled": false
   },
   "outputs": [
    {
     "data": {
      "application/vnd.jupyter.widget-view+json": {
       "model_id": "f7bfe4f4d7cb4b1cbceb56646ab66797",
       "version_major": 2,
       "version_minor": 0
      },
      "text/plain": [
       "  0%|          | 0/20 [00:00<?, ?it/s]"
      ]
     },
     "metadata": {},
     "output_type": "display_data"
    },
    {
     "data": {
      "text/plain": [
       "(100,\n",
       " {'claim_id': 'Q64566934$EA9C53AA-1E8D-4D0D-814E-0FB00E7AA3EE',\n",
       "  'reference_id': 'c142c251fcb563f07dabef11a283b4fd171f1eb6',\n",
       "  'evidence_id': 0,\n",
       "  'sentence_id': '14',\n",
       "  'score': 0.29895803330000004,\n",
       "  'affirmation': 'Pandallur Hss is located in India.',\n",
       "  'pre_evidence': 'PANDALLUR HSS was established in 1979 and it is managed by the Pvt. Aided. It is located in Rural area.',\n",
       "  'evidence': 'It is located in MANJERI block of MALAPPURAM district of Kerala.',\n",
       "  'post_evidence': \"The school consists of Grades from 8 to 12. The school is Co-educational and it doesn't have an attached pre-primary section.\",\n",
       "  'reference_url': 'https://schools.org.in/malappuram/32050601215/',\n",
       "  'g_id': -1})"
      ]
     },
     "execution_count": 19,
     "metadata": {},
     "output_type": "execute_result"
    }
   ],
   "source": [
    "jsonsets_SINGLE_pilot = convert_df_to_json_set_SINGLE(task_data_pilot)\n",
    "len(jsonsets_SINGLE_pilot), jsonsets_SINGLE_pilot[0]"
   ]
  },
  {
   "cell_type": "code",
   "execution_count": 14,
   "metadata": {},
   "outputs": [
    {
     "data": {
      "application/vnd.jupyter.widget-view+json": {
       "model_id": "c066d6258c254e00a368824cae8a5ec6",
       "version_major": 2,
       "version_minor": 0
      },
      "text/plain": [
       "  0%|          | 0/20 [00:00<?, ?it/s]"
      ]
     },
     "metadata": {},
     "output_type": "display_data"
    },
    {
     "data": {
      "text/plain": [
       "(20,\n",
       " {'claim_id': 'Q100562234$6222DFB3-EC74-4C9D-B02D-BB70AFB981B9',\n",
       "  'reference_id': '5e9bc44ce8b4ae04f57985660ab5f880cee53315',\n",
       "  'affirmation': 'Merchant Shipping (Grain) Rules, 1953 has a citation of S.I. No. 348/1953.',\n",
       "  'reference_url': 'https://www.irishstatutebook.ie/eli/1953/si/348/made/en/print',\n",
       "  'g_id': -1,\n",
       "  'evidence_list': [{'evidence_id': 0,\n",
       "    'sentence_id': '47;48',\n",
       "    'score': 0.9998652339,\n",
       "    'pre_evidence': 'Advanced Search Cuardach Casta. Home Baile. Statutory Instruments Ionstraimí Reachtúla. 1953. S.I. No.',\n",
       "    'evidence': '348/1953- Merchant Shipping (Grain) Rules, 1953. S.I.',\n",
       "    'post_evidence': 'No. 348/1953- Merchant Shipping (Grain) Rules, 1953. View SI Amharc ar an IR. Amendments Leasuithe. S.I.'},\n",
       "   {'evidence_id': 4,\n",
       "    'sentence_id': '61;62',\n",
       "    'score': 0.1842070073,\n",
       "    'pre_evidence': \"These Rules supersede all regulations made under section' 453 of the Merchant Shipping Act, 1894, before the coming into operation of these Rules which said regulations are accordingly hereby revoked. 3.\",\n",
       "    'evidence': 'These Rules shall come into operation on the 19th day of November, 1953. 4. Every precaution set forth in the Schedule to these Rules is hereby prescribed as being, subject to the provisions of the said Schedule, a precaution to be treated for the purposes of subsections (1) and (2) of the said section 39 as a necessary or reasonable precaution to prevent grain from shifting, in the case of ships of the following classes:—. (a) ships which are loaded with grain within any port in the State; (b) ships which, having been loaded with grain outside the State, enter any port in the State so laden.',\n",
       "    'post_evidence': '5. Where these Rules require that a particular fitting, appliance or apparatus, or type thereof, shall be fitted or carried in a ship or that any particular provision shall be made, the Minister for Industry and Commerce may allow any other fitting, appliance or apparatus, or type thereof, to be fitted or carried, or any other provision to be made in that ship if he is satisfied that such other fitting, appliance or apparatus, or type thereof, or provision is at least as effective as that required by these Rules.'},\n",
       "   {'evidence_id': 2,\n",
       "    'sentence_id': '57',\n",
       "    'score': 0.9918883443000001,\n",
       "    'pre_evidence': 'I, SEÁN F. LEMASS, Minister for Industry and Commerce, in exercise of the powers conferred upon me by subsection (3) of section 39 of the Merchant Shipping (Safety Convention) Act, 1952 (No. 29 of 1952), hereby make the following Rules:—. 1.',\n",
       "    'evidence': 'These Rules may be cited as the Merchant Shipping (Grain) Rules, 1953.',\n",
       "    'post_evidence': \"2. These Rules supersede all regulations made under section' 453 of the Merchant Shipping Act, 1894, before the coming into operation of these Rules which said regulations are accordingly hereby revoked.\"},\n",
       "   {'evidence_id': 1,\n",
       "    'sentence_id': '49;50',\n",
       "    'score': 0.9998426437000001,\n",
       "    'pre_evidence': 'Statutory Instruments Ionstraimí Reachtúla. 1953. S.I. No. 348/1953- Merchant Shipping (Grain) Rules, 1953. S.I.',\n",
       "    'evidence': 'No. 348/1953- Merchant Shipping (Grain) Rules, 1953.',\n",
       "    'post_evidence': 'View SI Amharc ar an IR. Amendments Leasuithe. S.I. No. 348 of 1953. MERCHANT SHIPPING (GRAIN) RULES, 1953.'},\n",
       "   {'evidence_id': 3,\n",
       "    'sentence_id': '54;55',\n",
       "    'score': 0.9158077836,\n",
       "    'pre_evidence': '348/1953- Merchant Shipping (Grain) Rules, 1953. View SI Amharc ar an IR. Amendments Leasuithe. S.I.',\n",
       "    'evidence': 'No. 348 of 1953. MERCHANT SHIPPING (GRAIN) RULES, 1953.',\n",
       "    'post_evidence': 'I, SEÁN F. LEMASS, Minister for Industry and Commerce, in exercise of the powers conferred upon me by subsection (3) of section 39 of the Merchant Shipping (Safety Convention) Act, 1952 (No. 29 of 1952), hereby make the following Rules:—. 1.'}]})"
      ]
     },
     "execution_count": 14,
     "metadata": {},
     "output_type": "execute_result"
    }
   ],
   "source": [
    "jsonsets_MULTIPLE_pilot = convert_df_to_json_set_MULTIPLE(task_data_pilot)\n",
    "len(jsonsets_MULTIPLE_pilot), jsonsets_MULTIPLE_pilot[10]"
   ]
  },
  {
   "cell_type": "markdown",
   "metadata": {},
   "source": [
    "## Separate Gold Standard\n",
    "\n",
    "We now split the json sets into two, one with golden standards and one with references to be judged.\n",
    "\n",
    "Here is we calculate an appropriate number of gold standards:\n",
    "- Let X be the maximum expected number of tasks any singular worker can complete;\n",
    "- Let Y be the number of gold standard references we have annotated;\n",
    "- Let Z be the number of combinations of 2 gold standard references that we can take from the Y gold standard references in our gold set, regardless of pairing order, without repeating.\n",
    "- Let P be the probability of a worker doing X tasks and not finding a repeated pair of golden standard references, taken from the set of Z gold standard pairs.\n",
    "\n",
    "So we calculate:\n",
    "- Z = Y*(Y-1)/2\n",
    "- P = Z!/((Z^X)*(Z-X)!)\n",
    "\n",
    "So, we set X = 15 (The mean number of tasks per worker for previous experiments has been 4, with standard deviation of 10.5, so if it follows a normal distribution, we get 85% of workers here).\n",
    "\n",
    "According to the calculation below, we see that **Y = 45** gives us near 90% of chances of not having repeated gold standard, so that is how many gold standards we aim at annotating for each language"
   ]
  },
  {
   "cell_type": "code",
   "execution_count": 198,
   "metadata": {},
   "outputs": [
    {
     "data": {
      "text/plain": [
       "[<matplotlib.lines.Line2D at 0x191ccb6ac10>]"
      ]
     },
     "execution_count": 198,
     "metadata": {},
     "output_type": "execute_result"
    },
    {
     "data": {
      "image/png": "[encoded data removed]",
      "text/plain": [
       "<Figure size 432x288 with 1 Axes>"
      ]
     },
     "metadata": {
      "needs_background": "light"
     },
     "output_type": "display_data"
    }
   ],
   "source": [
    "from decimal import Decimal\n",
    "from decimal import *\n",
    "import matplotlib.pyplot as plt\n",
    "def fac(x):\n",
    "    return Decimal(math.factorial(x))\n",
    "x = 15\n",
    "ys = list(range(15,100))\n",
    "zs = [y*(y-1)/2 for y in ys]\n",
    "ps = [fac(z)/(Decimal(z**x)*fac(z-x)) for z in zs]\n",
    "plt.plot(ys,ps)"
   ]
  },
  {
   "cell_type": "code",
   "execution_count": 17,
   "metadata": {},
   "outputs": [],
   "source": [
    "golden_standard_quota_SINGLE_pilot = 8 #should be 45 for the campaign\n",
    "golden_standard_quota_MULTIPLE_pilot = 4\n",
    "\n",
    "jsonsets_SINGLE_pilot_shuffle = random.Random(42).sample(jsonsets_SINGLE_pilot, len(jsonsets_SINGLE_pilot))\n",
    "#with open('../data/pilot/single_gd.json','w+',encoding='utf8') as f:\n",
    "#    json.dump(\n",
    "#        jsonsets_SINGLE_pilot_shuffle[:golden_standard_quota_SINGLE_pilot],\n",
    "#        f, indent=2,ensure_ascii=False\n",
    "#    )\n",
    "with open('../data/pilot/single.json','w+',encoding='utf8') as f:\n",
    "    json.dump(\n",
    "        jsonsets_SINGLE_pilot_shuffle[golden_standard_quota_SINGLE_pilot:],\n",
    "        f, indent=2,ensure_ascii=False\n",
    "    )   \n",
    "    \n",
    "jsonsets_MULTIPLE_pilot_shuffle = random.Random(42).sample(jsonsets_MULTIPLE_pilot, len(jsonsets_MULTIPLE_pilot))\n",
    "#with open('../data/pilot/multiple_gd.json','w+',encoding='utf8') as f:\n",
    "#    json.dump(\n",
    "#        jsonsets_MULTIPLE_pilot_shuffle[:golden_standard_quota_MULTIPLE_pilot],\n",
    "#        f, indent=2,ensure_ascii=False\n",
    "#    )\n",
    "with open('../data/pilot/multiple.json','w+',encoding='utf8') as f:\n",
    "    json.dump(\n",
    "        jsonsets_MULTIPLE_pilot_shuffle[golden_standard_quota_MULTIPLE_pilot:],\n",
    "        f, indent=2,ensure_ascii=False\n",
    "    )  "
   ]
  },
  {
   "cell_type": "markdown",
   "metadata": {},
   "source": [
    "You must now annotate the golden standard by doing the following:\n",
    "For each gd reference in the gd json set, go to the \"gd\" field, which should be like this:\n",
    "```\n",
    "{\n",
    "    \"reference_id\": [random uuid],\n",
    "    \"url\": [an url],\n",
    "    ...,\n",
    "    \"g_id\": -1\n",
    "}\n",
    "```\n",
    "\n",
    "and change it to something of the format:\n",
    "\n",
    "```\n",
    "{\n",
    "    \"reference_id\": [random uuid],\n",
    "    \"url\": [an url],\n",
    "    ...,\n",
    "    \"g_id\": [list of allowed values]\n",
    "}\n",
    "```\n",
    "where by allowed values we mean any of the following which could apply to this case:\n",
    "- 0: Supports\n",
    "- 1: Refutes\n",
    "- 2: Neither\n",
    "- 3: Not Sure\n",
    "\n",
    "If any golden data case is ambiguous, exchange it for a non-gd case and **save to a x_gd_2.json** file"
   ]
  },
  {
   "cell_type": "markdown",
   "metadata": {},
   "source": [
    "## Generating Task Sets\n",
    "\n",
    "**Make sure you have annotated the GD before proceeding here**\n",
    "\n",
    "**Make sure you have also filtered the non-GD for API-verifiable examples**\n",
    "\n",
    "Now we take 4 non_gd references and 2 gd references and pack them into task sets of 6"
   ]
  },
  {
   "cell_type": "code",
   "execution_count": 21,
   "metadata": {
    "scrolled": false
   },
   "outputs": [
    {
     "name": "stdout",
     "output_type": "stream",
     "text": [
      "Generating Task Sets [SINGLE]\n",
      "Gd len: 8\n",
      "Non-Gd len: 92\n",
      "Generated 23 tasks, each verbalisation appearance counter is: [1, 1, 1, 1, 1, 1, 1, 1, 1, 1, 1, 1, 1, 1, 1, 1, 1, 1, 1, 1, 1, 1, 1, 1, 1, 1, 1, 1, 1, 1, 1, 1, 1, 1, 1, 1, 1, 1, 1, 1, 1, 1, 1, 1, 1, 1, 1, 1, 1, 1, 1, 1, 1, 1, 1, 1, 1, 1, 1, 1, 1, 1, 1, 1, 1, 1, 1, 1, 1, 1, 1, 1, 1, 1, 1, 1, 1, 1, 1, 1, 1, 1, 1, 1, 1, 1, 1, 1, 1, 1, 1, 1]\n",
      "Each golden data appearance counter is: [6, 6, 6, 6, 6, 5, 6, 5]\n",
      "\n",
      "Estimated costs: $69.0\n"
     ]
    }
   ],
   "source": [
    "cost_single_task = 0.5\n",
    "maxSingleInstances = 1 #MAX TIMES ANY SUBTASK APPEARS AMONG THE TASK SETS\n",
    "maxSingleInstances_gd = 6 #MAX TIMES ANY GOLDEN SUBTASK APPEARS AMONG THE TASK SETS\n",
    "\n",
    "print('Generating Task Sets [SINGLE]')\n",
    "with open('../data/pilot/single_gd.json','r',encoding='utf8') as f:\n",
    "    single_gd = json.load(f)\n",
    "    print('Gd len:',len(single_gd))\n",
    "with open('../data/pilot/single.json','r',encoding='utf8') as f:\n",
    "    single = json.load(f)\n",
    "    print('Non-Gd len:',len(single))\n",
    "\n",
    "ds, c, c_gd = generateIDdTaskSets(single, single_gd, maxSingleInstances, maxSingleInstances_gd)\n",
    "print('Generated {} tasks, each verbalisation appearance counter is: {}'.format(len(ds), c))\n",
    "print('Each golden data appearance counter is: {}'.format(c_gd))\n",
    "print()\n",
    "print(f'Estimated costs: ${len(ds)*5*cost_single_task*1.2}')\n",
    "\n",
    "with open('../data/pilot/single_TaskSets.json','w+',encoding='utf8') as f:\n",
    "    json.dump(ds,f,indent=2)"
   ]
  },
  {
   "cell_type": "code",
   "execution_count": 22,
   "metadata": {},
   "outputs": [
    {
     "name": "stdout",
     "output_type": "stream",
     "text": [
      "Generating Task Sets [MULTIPLE]\n",
      "Gd len: 4\n",
      "Non-Gd len: 16\n",
      "Generated 4 tasks, each verbalisation appearance counter is: [1, 1, 1, 1, 1, 1, 1, 1, 1, 1, 1, 1, 1, 1, 1, 1]\n",
      "Each golden data appearance counter is: [2, 2, 2, 2]\n",
      "\n",
      "Estimated costs: $24.0\n"
     ]
    }
   ],
   "source": [
    "cost_single_task = 1\n",
    "maxSingleInstances = 1 #MAX TIMES ANY SUBTASK APPEARS AMONG THE TASK SETS\n",
    "maxSingleInstances_gd = 2 #MAX TIMES ANY GOLDEN SUBTASK APPEARS AMONG THE TASK SETS\n",
    "\n",
    "\n",
    "print('Generating Task Sets [MULTIPLE]')\n",
    "with open('../data/pilot/multiple_gd.json','r',encoding='utf8') as f:\n",
    "    verbalisations_gd = json.load(f)\n",
    "    print('Gd len:',len(verbalisations_gd))\n",
    "with open('../data/pilot/multiple.json','r',encoding='utf8') as f:\n",
    "    verbalisations = json.load(f)\n",
    "    print('Non-Gd len:',len(verbalisations))\n",
    "\n",
    "ds, c, c_gd = generateIDdTaskSets(verbalisations, verbalisations_gd, maxSingleInstances, maxSingleInstances_gd)\n",
    "print('Generated {} tasks, each verbalisation appearance counter is: {}'.format(len(ds), c))\n",
    "print('Each golden data appearance counter is: {}'.format(c_gd))\n",
    "print()\n",
    "print(f'Estimated costs: ${len(ds)*5*cost_single_task*1.2}')\n",
    "\n",
    "with open('../data/pilot/multiple_TaskSets.json','w+',encoding='utf8') as f:\n",
    "    json.dump(ds,f,indent=2)"
   ]
  },
  {
   "cell_type": "code",
   "execution_count": 281,
   "metadata": {},
   "outputs": [
    {
     "data": {
      "text/plain": [
       "'Total cost is $93'"
      ]
     },
     "execution_count": 281,
     "metadata": {},
     "output_type": "execute_result"
    }
   ],
   "source": [
    "f'Total cost is ${69+24}'"
   ]
  },
  {
   "cell_type": "markdown",
   "metadata": {},
   "source": [
    "# CAMPAIGN"
   ]
  },
  {
   "cell_type": "code",
   "execution_count": 22,
   "metadata": {},
   "outputs": [
    {
     "name": "stdout",
     "output_type": "stream",
     "text": [
      "<class 'pandas.core.frame.DataFrame'>\n",
      "RangeIndex: 409 entries, 0 to 408\n",
      "Data columns (total 17 columns):\n",
      " #   Column                                 Non-Null Count  Dtype  \n",
      "---  ------                                 --------------  -----  \n",
      " 0   reference_id                           409 non-null    object \n",
      " 1   claim_id                               409 non-null    object \n",
      " 2   final_verbalisation                    409 non-null    object \n",
      " 3   sampling_weight                        409 non-null    float64\n",
      " 4   final_url                              409 non-null    object \n",
      " 5   netloc_agg                             409 non-null    object \n",
      " 6   nlp_sentences                          409 non-null    object \n",
      " 7   nlp_sentences_slide_2                  409 non-null    object \n",
      " 8   nlp_sentences_scores                   409 non-null    object \n",
      " 9   nlp_sentences_slide_2_scores           409 non-null    object \n",
      " 10  nlp_sentences_all_TOP_N                409 non-null    object \n",
      " 11  evidence_TE_prob_all_TOP_N             409 non-null    object \n",
      " 12  evidence_TE_prob_weighted_all_TOP_N    409 non-null    object \n",
      " 13  evidence_TE_labels_all_TOP_N           409 non-null    object \n",
      " 14  claim_TE_prob_weighted_sum_all_TOP_N   409 non-null    object \n",
      " 15  claim_TE_label_weighted_sum_all_TOP_N  409 non-null    object \n",
      " 16  claim_TE_label_malon_all_TOP_N         409 non-null    object \n",
      "dtypes: float64(1), object(16)\n",
      "memory usage: 54.4+ KB\n"
     ]
    }
   ],
   "source": [
    "task_data = pd.read_json('../data/textual_entailment_df_filtered_for_crowdsourcing.json')\n",
    "task_data.info()"
   ]
  },
  {
   "cell_type": "code",
   "execution_count": 23,
   "metadata": {},
   "outputs": [
    {
     "data": {
      "application/vnd.jupyter.widget-view+json": {
       "model_id": "9321a5e787934b84867668ca63ade18a",
       "version_major": 2,
       "version_minor": 0
      },
      "text/plain": [
       "  0%|          | 0/409 [00:00<?, ?it/s]"
      ]
     },
     "metadata": {},
     "output_type": "display_data"
    },
    {
     "data": {
      "text/plain": [
       "(2045,\n",
       " {'claim_id': 'Q5512528$81E8AD02-28AF-4AE3-8ACD-047C30B40B01',\n",
       "  'reference_id': '390d6c6e68a32e11f8d7b0883cda0557db529fe6',\n",
       "  'evidence_id': 0,\n",
       "  'sentence_id': '28;29',\n",
       "  'score': 0.9999055862,\n",
       "  'affirmation': 'G V Raja died in Kullu Valley.',\n",
       "  'pre_evidence': 'G.V Raja was also the President of Tourism Promotion Council of Kerala. He was the main architect in developing Kovalam as an international tourist spot.',\n",
       "  'evidence': 'He died in an air crash near Kullu (Kulu) Valley on April 30, 1971. Sports journalists, historians, experts and sportsmen consider him as the Father of Sports and Tourism in Kerala.',\n",
       "  'post_evidence': 'G.V Raja\\'s birth anniversary, 13 October, is observed as \"Kerala Sports Day\". Contents. 1 Background and early life.',\n",
       "  'reference_url': 'https://en.wikipedia.org/w/index.php?title=G._V._Raja&oldid=916789538',\n",
       "  'g_id': -1})"
      ]
     },
     "execution_count": 23,
     "metadata": {},
     "output_type": "execute_result"
    }
   ],
   "source": [
    "jsonsets_SINGLE = convert_df_to_json_set_SINGLE(task_data)\n",
    "len(jsonsets_SINGLE), jsonsets_SINGLE[0]"
   ]
  },
  {
   "cell_type": "code",
   "execution_count": 25,
   "metadata": {},
   "outputs": [
    {
     "data": {
      "application/vnd.jupyter.widget-view+json": {
       "model_id": "a97e0bf2fdee420fb23a617e55505af3",
       "version_major": 2,
       "version_minor": 0
      },
      "text/plain": [
       "  0%|          | 0/409 [00:00<?, ?it/s]"
      ]
     },
     "metadata": {},
     "output_type": "display_data"
    },
    {
     "data": {
      "text/plain": [
       "(409,\n",
       " {'claim_id': 'Q73936275$1037AE55-B90E-44EB-8E23-76C390E0C787',\n",
       "  'reference_id': '16e1d8bbc347e2506ac55ef4105c7922a81015ba',\n",
       "  'affirmation': 'MOG Music began work in 2013.',\n",
       "  'reference_url': 'https://en.wikipedia.org/w/index.php?title=MOG_Music&oldid=930246276',\n",
       "  'g_id': -1,\n",
       "  'evidence_list': [{'evidence_id': 1,\n",
       "    'sentence_id': '15;16',\n",
       "    'score': -0.3574801385,\n",
       "    'pre_evidence': 'Singer, songwriter Years active 2013–present Associated acts. Joe Mettle. Ohemaa Mercy. Denzel Prempeh. Nii Okai. Musical artist.',\n",
       "    'evidence': 'Nana Yaw Boakye better known by his stage name MOG Music is a Ghanaian contemporary gospel singer, songwriter and a pastor. Contents. 1 Music career.',\n",
       "    'post_evidence': '2 Discography. 2.1 Live albums. 3 Awards and nomination. 4 References. Music career. MOG Music released his first album in 2016 \"New Wine\" which earned him African Gospel Music awards Nominations for \"Album of the Year\" and \"Discovery of the Year\".'},\n",
       "   {'evidence_id': 4,\n",
       "    'sentence_id': '27;28',\n",
       "    'score': -0.8585193157000001,\n",
       "    'pre_evidence': 'He has collaborated and performed with numerous gospel musicians, including Ohemaa Mercy, Joe Mettle, Denzel Prempeh, Jekalyn Carr, Danny Nettey, Nii Okai, Ron Kenoly. Discography. Live albums.',\n",
       "    'evidence': 'New Wine (2016) Better Me (2018) Selected Singles.',\n",
       "    'post_evidence': 'Be Lifted. Elohim. Fakye. Making It big. Awards and nomination. Year. Event. Award. Nominated Work. Result.'},\n",
       "   {'evidence_id': 3,\n",
       "    'sentence_id': '8;9',\n",
       "    'score': -0.8549956679,\n",
       "    'pre_evidence': 'Latest revision ( diff ) | Newer revision → ( diff ) Jump to navigation. Jump to search. Ghanaian singer.',\n",
       "    'evidence': 'MOG Music Birth name Nana Yaw Boakye Genres Gospel Occupation(s) Singer, songwriter Years active 2013–present Associated acts.',\n",
       "    'post_evidence': 'Joe Mettle. Ohemaa Mercy. Denzel Prempeh. Nii Okai. Musical artist. Nana Yaw Boakye better known by his stage name MOG Music is a Ghanaian contemporary gospel singer, songwriter and a pastor.'},\n",
       "   {'evidence_id': 2,\n",
       "    'sentence_id': '0',\n",
       "    'score': -0.4286392331,\n",
       "    'pre_evidence': '',\n",
       "    'evidence': 'MOG Music.',\n",
       "    'post_evidence': 'From Wikipedia, the free encyclopedia. This is an old revision of this page, as edited by Bonnie13J (talk | contribs) at 05:24, 11 December 2019 (Updated infobox).'},\n",
       "   {'evidence_id': 0,\n",
       "    'sentence_id': '22;23',\n",
       "    'score': -0.1240344569,\n",
       "    'pre_evidence': 'Contents. 1 Music career. 2 Discography. 2.1 Live albums. 3 Awards and nomination. 4 References. Music career.',\n",
       "    'evidence': 'MOG Music released his first album in 2016 \"New Wine\" which earned him African Gospel Music awards Nominations for \"Album of the Year\" and \"Discovery of the Year\". He released a single \"Making it Big\" featuring Sarkodie.',\n",
       "    'post_evidence': 'He has collaborated and performed with numerous gospel musicians, including Ohemaa Mercy, Joe Mettle, Denzel Prempeh, Jekalyn Carr, Danny Nettey, Nii Okai, Ron Kenoly.'}]})"
      ]
     },
     "execution_count": 25,
     "metadata": {},
     "output_type": "execute_result"
    }
   ],
   "source": [
    "jsonsets_MULTIPLE = convert_df_to_json_set_MULTIPLE(task_data)\n",
    "len(jsonsets_MULTIPLE), jsonsets_MULTIPLE[10]"
   ]
  },
  {
   "cell_type": "markdown",
   "metadata": {},
   "source": [
    "## Generating Artificial Golden Data"
   ]
  },
  {
   "cell_type": "markdown",
   "metadata": {},
   "source": [
    "Not needed for this (for now), but let's keep the code here junst in case\n",
    "```\n",
    "data_df_remaining = data_df[data_df.campaign_group >= 3].reset_index(drop=True)\n",
    "#Taken from not campaigns groups 0,1 and 2\n",
    "```\n",
    "\n",
    "### Generate 45 golden data points with poor fluency\n",
    "\n",
    "Select these apart and then manually alter them\n",
    "\n",
    "```\n",
    "jsonsets = convert_microtask_dataframe_to_json_set(data_df_remaining.sample(45, random_state=42).reset_index(drop=True))\n",
    "\n",
    "for jsonset in jsonsets:\n",
    "    jsonset['g_id'] = {\n",
    "      \"fluency\": [0,1,2],\n",
    "      \"adequacy\": [0,1,2]\n",
    "    }  \n",
    "    jsonset['claim_id'] = jsonset['claim_id'] '_GD_PLUS_FLUENCY'\n",
    "    jsonset['verbalised_claim'] = jsonset['verbalised_claim'] + ' $ALTER THIS'\n",
    "    \n",
    "with open('data/campaign/batch_1/verbalisations_gd_plus_fluency.json','w+',encoding='utf8') as f:\n",
    "    json.dump(jsonsets[:golden_standard_quota], f, indent=2,ensure_ascii=False)\n",
    "```\n",
    "\n",
    "### Generate 45 golden data points with poor adequacy\n",
    "\n",
    "Triples are paired with random verbalisations from other triples\n",
    "\n",
    "```\n",
    "jsonsets = convert_microtask_dataframe_to_json_set(data_df_remaining.sample(45, random_state=24783).reset_index(drop=True))\n",
    "jsonsets_2 = convert_microtask_dataframe_to_json_set(data_df_remaining.sample(45, random_state=1847).reset_index(drop=True))\n",
    "\n",
    "for i, jsonset in enumerate(jsonsets):\n",
    "    jsonset['g_id'] = {\n",
    "      \"fluency\": [0,1,2,3,4,5],\n",
    "      \"adequacy\": [1,2]\n",
    "    }  \n",
    "    \n",
    "    jsonset['claim_id'] = jsonset['claim_id'] '_GD_PLUS_ADEQUACY'    \n",
    "    jsonset['verbalised_claim'] = jsonsets_2[i]['verbalised_claim']\n",
    "\n",
    "with open('data/campaign/batch_1/verbalisations_gd_plus_adequacy.json','w+',encoding='utf8') as f:\n",
    "    json.dump(jsonsets[:golden_standard_quota], f, indent=2,ensure_ascii=False)\n",
    "```"
   ]
  },
  {
   "cell_type": "markdown",
   "metadata": {},
   "source": [
    "## We are first converting campaign batch 1! That is campaign groups 0, 1, and 2"
   ]
  },
  {
   "cell_type": "code",
   "execution_count": 26,
   "metadata": {},
   "outputs": [],
   "source": [
    "golden_standard_quota_SINGLE = 45 #should be 45 for the campaign\n",
    "golden_standard_quota_MULTIPLE = 45\n",
    "\n",
    "jsonsets_SINGLE_shuffle = random.Random(42).sample(jsonsets_SINGLE, len(jsonsets_SINGLE))\n",
    "#with open('../data/campaign/single_gd.json','w+',encoding='utf8') as f:\n",
    "#    json.dump(\n",
    "#        jsonsets_SINGLE_shuffle[:golden_standard_quota_SINGLE],\n",
    "#        f, indent=2,ensure_ascii=False\n",
    "#    )\n",
    "#with open('../data/campaign/single.json','w+',encoding='utf8') as f:\n",
    "#    json.dump(\n",
    "#        jsonsets_SINGLE_shuffle[golden_standard_quota_SINGLE:],\n",
    "#        f, indent=2,ensure_ascii=False\n",
    "#    )   \n",
    "    \n",
    "jsonsets_MULTIPLE_shuffle = random.Random(42).sample(jsonsets_MULTIPLE, len(jsonsets_MULTIPLE))\n",
    "#with open('../data/campaign/multiple_gd.json','w+',encoding='utf8') as f:\n",
    "#    json.dump(\n",
    "#        jsonsets_MULTIPLE_shuffle[:golden_standard_quota_MULTIPLE],\n",
    "#        f, indent=2,ensure_ascii=False\n",
    "#    )\n",
    "#with open('../data/campaign/multiple.json','w+',encoding='utf8') as f:\n",
    "#    json.dump(\n",
    "#        jsonsets_MULTIPLE_shuffle[golden_standard_quota_MULTIPLE:],\n",
    "#        f, indent=2,ensure_ascii=False\n",
    "#    )  "
   ]
  },
  {
   "cell_type": "markdown",
   "metadata": {},
   "source": [
    "You must now annotate the golden standard by doing the following:\n",
    "For each gd reference in the gd json set, go to the \"gd\" field, which should be like this:\n",
    "```\n",
    "{\n",
    "    \"reference_id\": [random uuid],\n",
    "    \"url\": [an url],\n",
    "    ...,\n",
    "    \"g_id\": -1\n",
    "}\n",
    "```\n",
    "\n",
    "and change it to something of the format:\n",
    "\n",
    "```\n",
    "{\n",
    "    \"reference_id\": [random uuid],\n",
    "    \"url\": [an url],\n",
    "    ...,\n",
    "    \"g_id\": [list of allowed values]\n",
    "}\n",
    "```\n",
    "where by allowed values we mean any of the following which could apply to this case:\n",
    "- 0: Supports\n",
    "- 1: Refutes\n",
    "- 2: Neither\n",
    "- 3: Not Sure\n",
    "\n",
    "If any golden data case is ambiguous, exchange it for a non-gd case and **save to a x_gd_2.json** file"
   ]
  },
  {
   "cell_type": "markdown",
   "metadata": {},
   "source": [
    "## Generating Task Sets\n",
    "\n",
    "**Make sure you have annotated the GD before proceeding here**\n",
    "\n",
    "**Make sure you have also filtered the non-GD for API-verifiable examples**\n",
    "\n",
    "Now we take 4 non_gd references and 2 gd references and pack them into task sets of 6"
   ]
  },
  {
   "cell_type": "code",
   "execution_count": 37,
   "metadata": {},
   "outputs": [
    {
     "name": "stdout",
     "output_type": "stream",
     "text": [
      "Generating Task Sets [SINGLE]\n",
      "Gd len: 45\n",
      "Non-Gd len: 2000\n",
      "Generated 500 tasks, each verbalisation appearance counter is: [1, 1, 1, 1, 1, 1, 1, 1, 1, 1, 1, 1, 1, 1, 1, 1, 1, 1, 1, 1, 1, 1, 1, 1, 1, 1, 1, 1, 1, 1, 1, 1, 1, 1, 1, 1, 1, 1, 1, 1, 1, 1, 1, 1, 1, 1, 1, 1, 1, 1, 1, 1, 1, 1, 1, 1, 1, 1, 1, 1, 1, 1, 1, 1, 1, 1, 1, 1, 1, 1, 1, 1, 1, 1, 1, 1, 1, 1, 1, 1, 1, 1, 1, 1, 1, 1, 1, 1, 1, 1, 1, 1, 1, 1, 1, 1, 1, 1, 1, 1, 1, 1, 1, 1, 1, 1, 1, 1, 1, 1, 1, 1, 1, 1, 1, 1, 1, 1, 1, 1, 1, 1, 1, 1, 1, 1, 1, 1, 1, 1, 1, 1, 1, 1, 1, 1, 1, 1, 1, 1, 1, 1, 1, 1, 1, 1, 1, 1, 1, 1, 1, 1, 1, 1, 1, 1, 1, 1, 1, 1, 1, 1, 1, 1, 1, 1, 1, 1, 1, 1, 1, 1, 1, 1, 1, 1, 1, 1, 1, 1, 1, 1, 1, 1, 1, 1, 1, 1, 1, 1, 1, 1, 1, 1, 1, 1, 1, 1, 1, 1, 1, 1, 1, 1, 1, 1, 1, 1, 1, 1, 1, 1, 1, 1, 1, 1, 1, 1, 1, 1, 1, 1, 1, 1, 1, 1, 1, 1, 1, 1, 1, 1, 1, 1, 1, 1, 1, 1, 1, 1, 1, 1, 1, 1, 1, 1, 1, 1, 1, 1, 1, 1, 1, 1, 1, 1, 1, 1, 1, 1, 1, 1, 1, 1, 1, 1, 1, 1, 1, 1, 1, 1, 1, 1, 1, 1, 1, 1, 1, 1, 1, 1, 1, 1, 1, 1, 1, 1, 1, 1, 1, 1, 1, 1, 1, 1, 1, 1, 1, 1, 1, 1, 1, 1, 1, 1, 1, 1, 1, 1, 1, 1, 1, 1, 1, 1, 1, 1, 1, 1, 1, 1, 1, 1, 1, 1, 1, 1, 1, 1, 1, 1, 1, 1, 1, 1, 1, 1, 1, 1, 1, 1, 1, 1, 1, 1, 1, 1, 1, 1, 1, 1, 1, 1, 1, 1, 1, 1, 1, 1, 1, 1, 1, 1, 1, 1, 1, 1, 1, 1, 1, 1, 1, 1, 1, 1, 1, 1, 1, 1, 1, 1, 1, 1, 1, 1, 1, 1, 1, 1, 1, 1, 1, 1, 1, 1, 1, 1, 1, 1, 1, 1, 1, 1, 1, 1, 1, 1, 1, 1, 1, 1, 1, 1, 1, 1, 1, 1, 1, 1, 1, 1, 1, 1, 1, 1, 1, 1, 1, 1, 1, 1, 1, 1, 1, 1, 1, 1, 1, 1, 1, 1, 1, 1, 1, 1, 1, 1, 1, 1, 1, 1, 1, 1, 1, 1, 1, 1, 1, 1, 1, 1, 1, 1, 1, 1, 1, 1, 1, 1, 1, 1, 1, 1, 1, 1, 1, 1, 1, 1, 1, 1, 1, 1, 1, 1, 1, 1, 1, 1, 1, 1, 1, 1, 1, 1, 1, 1, 1, 1, 1, 1, 1, 1, 1, 1, 1, 1, 1, 1, 1, 1, 1, 1, 1, 1, 1, 1, 1, 1, 1, 1, 1, 1, 1, 1, 1, 1, 1, 1, 1, 1, 1, 1, 1, 1, 1, 1, 1, 1, 1, 1, 1, 1, 1, 1, 1, 1, 1, 1, 1, 1, 1, 1, 1, 1, 1, 1, 1, 1, 1, 1, 1, 1, 1, 1, 1, 1, 1, 1, 1, 1, 1, 1, 1, 1, 1, 1, 1, 1, 1, 1, 1, 1, 1, 1, 1, 1, 1, 1, 1, 1, 1, 1, 1, 1, 1, 1, 1, 1, 1, 1, 1, 1, 1, 1, 1, 1, 1, 1, 1, 1, 1, 1, 1, 1, 1, 1, 1, 1, 1, 1, 1, 1, 1, 1, 1, 1, 1, 1, 1, 1, 1, 1, 1, 1, 1, 1, 1, 1, 1, 1, 1, 1, 1, 1, 1, 1, 1, 1, 1, 1, 1, 1, 1, 1, 1, 1, 1, 1, 1, 1, 1, 1, 1, 1, 1, 1, 1, 1, 1, 1, 1, 1, 1, 1, 1, 1, 1, 1, 1, 1, 1, 1, 1, 1, 1, 1, 1, 1, 1, 1, 1, 1, 1, 1, 1, 1, 1, 1, 1, 1, 1, 1, 1, 1, 1, 1, 1, 1, 1, 1, 1, 1, 1, 1, 1, 1, 1, 1, 1, 1, 1, 1, 1, 1, 1, 1, 1, 1, 1, 1, 1, 1, 1, 1, 1, 1, 1, 1, 1, 1, 1, 1, 1, 1, 1, 1, 1, 1, 1, 1, 1, 1, 1, 1, 1, 1, 1, 1, 1, 1, 1, 1, 1, 1, 1, 1, 1, 1, 1, 1, 1, 1, 1, 1, 1, 1, 1, 1, 1, 1, 1, 1, 1, 1, 1, 1, 1, 1, 1, 1, 1, 1, 1, 1, 1, 1, 1, 1, 1, 1, 1, 1, 1, 1, 1, 1, 1, 1, 1, 1, 1, 1, 1, 1, 1, 1, 1, 1, 1, 1, 1, 1, 1, 1, 1, 1, 1, 1, 1, 1, 1, 1, 1, 1, 1, 1, 1, 1, 1, 1, 1, 1, 1, 1, 1, 1, 1, 1, 1, 1, 1, 1, 1, 1, 1, 1, 1, 1, 1, 1, 1, 1, 1, 1, 1, 1, 1, 1, 1, 1, 1, 1, 1, 1, 1, 1, 1, 1, 1, 1, 1, 1, 1, 1, 1, 1, 1, 1, 1, 1, 1, 1, 1, 1, 1, 1, 1, 1, 1, 1, 1, 1, 1, 1, 1, 1, 1, 1, 1, 1, 1, 1, 1, 1, 1, 1, 1, 1, 1, 1, 1, 1, 1, 1, 1, 1, 1, 1, 1, 1, 1, 1, 1, 1, 1, 1, 1, 1, 1, 1, 1, 1, 1, 1, 1, 1, 1, 1, 1, 1, 1, 1, 1, 1, 1, 1, 1, 1, 1, 1, 1, 1, 1, 1, 1, 1, 1, 1, 1, 1, 1, 1, 1, 1, 1, 1, 1, 1, 1, 1, 1, 1, 1, 1, 1, 1, 1, 1, 1, 1, 1, 1, 1, 1, 1, 1, 1, 1, 1, 1, 1, 1, 1, 1, 1, 1, 1, 1, 1, 1, 1, 1, 1, 1, 1, 1, 1, 1, 1, 1, 1, 1, 1, 1, 1, 1, 1, 1, 1, 1, 1, 1, 1, 1, 1, 1, 1, 1, 1, 1, 1, 1, 1, 1, 1, 1, 1, 1, 1, 1, 1, 1, 1, 1, 1, 1, 1, 1, 1, 1, 1, 1, 1, 1, 1, 1, 1, 1, 1, 1, 1, 1, 1, 1, 1, 1, 1, 1, 1, 1, 1, 1, 1, 1, 1, 1, 1, 1, 1, 1, 1, 1, 1, 1, 1, 1, 1, 1, 1, 1, 1, 1, 1, 1, 1, 1, 1, 1, 1, 1, 1, 1, 1, 1, 1, 1, 1, 1, 1, 1, 1, 1, 1, 1, 1, 1, 1, 1, 1, 1, 1, 1, 1, 1, 1, 1, 1, 1, 1, 1, 1, 1, 1, 1, 1, 1, 1, 1, 1, 1, 1, 1, 1, 1, 1, 1, 1, 1, 1, 1, 1, 1, 1, 1, 1, 1, 1, 1, 1, 1, 1, 1, 1, 1, 1, 1, 1, 1, 1, 1, 1, 1, 1, 1, 1, 1, 1, 1, 1, 1, 1, 1, 1, 1, 1, 1, 1, 1, 1, 1, 1, 1, 1, 1, 1, 1, 1, 1, 1, 1, 1, 1, 1, 1, 1, 1, 1, 1, 1, 1, 1, 1, 1, 1, 1, 1, 1, 1, 1, 1, 1, 1, 1, 1, 1, 1, 1, 1, 1, 1, 1, 1, 1, 1, 1, 1, 1, 1, 1, 1, 1, 1, 1, 1, 1, 1, 1, 1, 1, 1, 1, 1, 1, 1, 1, 1, 1, 1, 1, 1, 1, 1, 1, 1, 1, 1, 1, 1, 1, 1, 1, 1, 1, 1, 1, 1, 1, 1, 1, 1, 1, 1, 1, 1, 1, 1, 1, 1, 1, 1, 1, 1, 1, 1, 1, 1, 1, 1, 1, 1, 1, 1, 1, 1, 1, 1, 1, 1, 1, 1, 1, 1, 1, 1, 1, 1, 1, 1, 1, 1, 1, 1, 1, 1, 1, 1, 1, 1, 1, 1, 1, 1, 1, 1, 1, 1, 1, 1, 1, 1, 1, 1, 1, 1, 1, 1, 1, 1, 1, 1, 1, 1, 1, 1, 1, 1, 1, 1, 1, 1, 1, 1, 1, 1, 1, 1, 1, 1, 1, 1, 1, 1, 1, 1, 1, 1, 1, 1, 1, 1, 1, 1, 1, 1, 1, 1, 1, 1, 1, 1, 1, 1, 1, 1, 1, 1, 1, 1, 1, 1, 1, 1, 1, 1, 1, 1, 1, 1, 1, 1, 1, 1, 1, 1, 1, 1, 1, 1, 1, 1, 1, 1, 1, 1, 1, 1, 1, 1, 1, 1, 1, 1, 1, 1, 1, 1, 1, 1, 1, 1, 1, 1, 1, 1, 1, 1, 1, 1, 1, 1, 1, 1, 1, 1, 1, 1, 1, 1, 1, 1, 1, 1, 1, 1, 1, 1, 1, 1, 1, 1, 1, 1, 1, 1, 1, 1, 1, 1, 1, 1, 1, 1, 1, 1, 1, 1, 1, 1, 1, 1, 1, 1, 1, 1, 1, 1, 1, 1, 1, 1, 1, 1, 1, 1, 1, 1, 1, 1, 1, 1, 1, 1, 1, 1, 1, 1, 1, 1, 1, 1, 1, 1, 1, 1, 1, 1, 1, 1, 1, 1, 1, 1, 1, 1, 1, 1, 1, 1, 1, 1, 1, 1, 1, 1, 1, 1, 1, 1, 1, 1, 1, 1, 1, 1, 1, 1, 1, 1, 1, 1, 1, 1, 1, 1, 1, 1, 1, 1, 1, 1, 1, 1, 1, 1, 1, 1, 1, 1, 1, 1, 1, 1, 1, 1, 1, 1, 1, 1, 1, 1, 1, 1, 1, 1, 1, 1, 1, 1, 1, 1, 1, 1, 1, 1, 1, 1, 1, 1, 1, 1, 1, 1, 1, 1, 1, 1, 1, 1, 1, 1, 1, 1, 1, 1, 1, 1, 1, 1, 1, 1, 1, 1, 1, 1, 1, 1, 1, 1, 1, 1, 1, 1, 1, 1, 1, 1, 1, 1, 1, 1, 1, 1, 1, 1, 1, 1, 1, 1, 1, 1, 1, 1, 1, 1, 1, 1, 1, 1, 1, 1, 1, 1, 1, 1, 1, 1, 1, 1, 1, 1, 1, 1, 1, 1, 1, 1, 1, 1, 1, 1, 1, 1, 1, 1, 1, 1, 1, 1, 1, 1, 1, 1, 1, 1, 1, 1, 1, 1, 1, 1, 1, 1, 1, 1, 1, 1, 1, 1, 1, 1, 1, 1, 1, 1, 1, 1, 1, 1, 1, 1, 1, 1, 1, 1, 1, 1, 1, 1, 1, 1, 1, 1, 1, 1, 1, 1, 1, 1, 1, 1, 1, 1, 1, 1, 1, 1, 1, 1, 1, 1, 1, 1, 1, 1, 1, 1, 1, 1, 1, 1, 1, 1, 1, 1, 1, 1, 1, 1, 1, 1, 1, 1, 1, 1, 1, 1, 1, 1, 1, 1, 1, 1, 1, 1, 1, 1, 1, 1, 1, 1, 1, 1, 1, 1, 1, 1, 1, 1, 1, 1, 1, 1, 1, 1, 1, 1, 1, 1, 1, 1, 1, 1, 1, 1, 1, 1, 1, 1, 1, 1, 1, 1, 1, 1, 1, 1, 1, 1, 1, 1, 1, 1, 1, 1, 1, 1, 1, 1, 1, 1, 1, 1, 1, 1, 1, 1, 1, 1, 1, 1, 1, 1, 1, 1, 1, 1, 1, 1, 1, 1, 1, 1, 1, 1, 1, 1, 1, 1, 1, 1, 1, 1, 1, 1, 1, 1, 1, 1, 1, 1, 1, 1, 1, 1, 1, 1, 1, 1, 1, 1, 1, 1, 1, 1, 1, 1, 1, 1, 1, 1, 1, 1, 1, 1, 1, 1, 1, 1, 1, 1, 1, 1, 1, 1, 1, 1, 1, 1, 1, 1, 1, 1, 1, 1, 1, 1, 1, 1, 1, 1, 1, 1, 1, 1, 1, 1, 1, 1, 1, 1, 1, 1, 1, 1, 1, 1, 1, 1, 1, 1, 1, 1, 1, 1, 1, 1, 1, 1, 1, 1, 1, 1, 1, 1, 1, 1, 1, 1, 1, 1, 1, 1, 1, 1, 1, 1, 1, 1]\n",
      "Each golden data appearance counter is: [22, 22, 22, 22, 23, 22, 22, 22, 23, 22, 23, 22, 23, 23, 23, 22, 23, 22, 22, 22, 22, 22, 22, 22, 23, 22, 22, 23, 22, 23, 22, 22, 22, 22, 22, 22, 22, 22, 22, 22, 22, 22, 22, 22, 22]\n",
      "\n",
      "Estimated costs: $1500.0\n"
     ]
    }
   ],
   "source": [
    "cost_single_task = 0.5\n",
    "maxSingleInstances = 1 #MAX TIMES ANY SUBTASK APPEARS AMONG THE TASK SETS\n",
    "maxSingleInstances_gd = 22 #MAX TIMES ANY GOLDEN SUBTASK APPEARS AMONG THE TASK SETS\n",
    "\n",
    "print('Generating Task Sets [SINGLE]')\n",
    "with open('../data/campaign/single_gd.json','r',encoding='utf8') as f:\n",
    "    single_gd = json.load(f)\n",
    "    print('Gd len:',len(single_gd))\n",
    "with open('../data/campaign/single.json','r',encoding='utf8') as f:\n",
    "    single = json.load(f)\n",
    "    print('Non-Gd len:',len(single))\n",
    "\n",
    "ds, c, c_gd = generateIDdTaskSets(single, single_gd, maxSingleInstances, maxSingleInstances_gd)\n",
    "print('Generated {} tasks, each verbalisation appearance counter is: {}'.format(len(ds), c))\n",
    "print('Each golden data appearance counter is: {}'.format(c_gd))\n",
    "print()\n",
    "print(f'Estimated costs: ${len(ds)*5*cost_single_task*1.2}')\n",
    "\n",
    "with open('../data/campaign/single_TaskSets.json','w+',encoding='utf8') as f:\n",
    "    json.dump(ds,f,indent=2)"
   ]
  },
  {
   "cell_type": "code",
   "execution_count": 40,
   "metadata": {},
   "outputs": [
    {
     "name": "stdout",
     "output_type": "stream",
     "text": [
      "Generating Task Sets [MULTIPLE]\n",
      "Gd len: 45\n",
      "Non-Gd len: 364\n",
      "Generated 91 tasks, each verbalisation appearance counter is: [1, 1, 1, 1, 1, 1, 1, 1, 1, 1, 1, 1, 1, 1, 1, 1, 1, 1, 1, 1, 1, 1, 1, 1, 1, 1, 1, 1, 1, 1, 1, 1, 1, 1, 1, 1, 1, 1, 1, 1, 1, 1, 1, 1, 1, 1, 1, 1, 1, 1, 1, 1, 1, 1, 1, 1, 1, 1, 1, 1, 1, 1, 1, 1, 1, 1, 1, 1, 1, 1, 1, 1, 1, 1, 1, 1, 1, 1, 1, 1, 1, 1, 1, 1, 1, 1, 1, 1, 1, 1, 1, 1, 1, 1, 1, 1, 1, 1, 1, 1, 1, 1, 1, 1, 1, 1, 1, 1, 1, 1, 1, 1, 1, 1, 1, 1, 1, 1, 1, 1, 1, 1, 1, 1, 1, 1, 1, 1, 1, 1, 1, 1, 1, 1, 1, 1, 1, 1, 1, 1, 1, 1, 1, 1, 1, 1, 1, 1, 1, 1, 1, 1, 1, 1, 1, 1, 1, 1, 1, 1, 1, 1, 1, 1, 1, 1, 1, 1, 1, 1, 1, 1, 1, 1, 1, 1, 1, 1, 1, 1, 1, 1, 1, 1, 1, 1, 1, 1, 1, 1, 1, 1, 1, 1, 1, 1, 1, 1, 1, 1, 1, 1, 1, 1, 1, 1, 1, 1, 1, 1, 1, 1, 1, 1, 1, 1, 1, 1, 1, 1, 1, 1, 1, 1, 1, 1, 1, 1, 1, 1, 1, 1, 1, 1, 1, 1, 1, 1, 1, 1, 1, 1, 1, 1, 1, 1, 1, 1, 1, 1, 1, 1, 1, 1, 1, 1, 1, 1, 1, 1, 1, 1, 1, 1, 1, 1, 1, 1, 1, 1, 1, 1, 1, 1, 1, 1, 1, 1, 1, 1, 1, 1, 1, 1, 1, 1, 1, 1, 1, 1, 1, 1, 1, 1, 1, 1, 1, 1, 1, 1, 1, 1, 1, 1, 1, 1, 1, 1, 1, 1, 1, 1, 1, 1, 1, 1, 1, 1, 1, 1, 1, 1, 1, 1, 1, 1, 1, 1, 1, 1, 1, 1, 1, 1, 1, 1, 1, 1, 1, 1, 1, 1, 1, 1, 1, 1, 1, 1, 1, 1, 1, 1, 1, 1, 1, 1, 1, 1, 1, 1, 1, 1, 1, 1]\n",
      "Each golden data appearance counter is: [4, 4, 4, 4, 4, 4, 4, 4, 4, 4, 4, 4, 4, 4, 4, 4, 4, 4, 4, 4, 4, 4, 4, 4, 4, 4, 4, 4, 5, 4, 5, 4, 4, 4, 4, 4, 4, 4, 4, 4, 4, 4, 4, 4, 4]\n",
      "\n",
      "Estimated costs: $546.0\n"
     ]
    }
   ],
   "source": [
    "cost_multiple_task = 1\n",
    "maxSingleInstances = 1 #MAX TIMES ANY SUBTASK APPEARS AMONG THE TASK SETS\n",
    "maxSingleInstances_gd = 4 #MAX TIMES ANY GOLDEN SUBTASK APPEARS AMONG THE TASK SETS\n",
    "\n",
    "\n",
    "print('Generating Task Sets [MULTIPLE]')\n",
    "with open('../data/campaign/multiple_gd.json','r',encoding='utf8') as f:\n",
    "    verbalisations_gd = json.load(f)\n",
    "    print('Gd len:',len(verbalisations_gd))\n",
    "with open('../data/campaign/multiple.json','r',encoding='utf8') as f:\n",
    "    verbalisations = json.load(f)\n",
    "    print('Non-Gd len:',len(verbalisations))\n",
    "\n",
    "ds, c, c_gd = generateIDdTaskSets(verbalisations, verbalisations_gd, maxSingleInstances, maxSingleInstances_gd)\n",
    "print('Generated {} tasks, each verbalisation appearance counter is: {}'.format(len(ds), c))\n",
    "print('Each golden data appearance counter is: {}'.format(c_gd))\n",
    "print()\n",
    "print(f'Estimated costs: ${len(ds)*5*cost_multiple_task*1.2}')\n",
    "\n",
    "with open('../data/campaign/multiple_TaskSets.json','w+',encoding='utf8') as f:\n",
    "    json.dump(ds,f,indent=2)"
   ]
  },
  {
   "cell_type": "code",
   "execution_count": 41,
   "metadata": {},
   "outputs": [
    {
     "data": {
      "text/plain": [
       "'Total cost is $2046'"
      ]
     },
     "execution_count": 41,
     "metadata": {},
     "output_type": "execute_result"
    }
   ],
   "source": [
    "f'Total cost is ${1500+546}'"
   ]
  }
 ],
 "metadata": {
  "kernelspec": {
   "display_name": "Python 3",
   "language": "python",
   "name": "python3"
  },
  "language_info": {
   "codemirror_mode": {
    "name": "ipython",
    "version": 3
   },
   "file_extension": ".py",
   "mimetype": "text/x-python",
   "name": "python",
   "nbconvert_exporter": "python",
   "pygments_lexer": "ipython3",
   "version": "3.8.5"
  },
  "toc": {
   "base_numbering": 1,
   "nav_menu": {},
   "number_sections": true,
   "sideBar": true,
   "skip_h1_title": false,
   "title_cell": "Table of Contents",
   "title_sidebar": "Contents",
   "toc_cell": false,
   "toc_position": {},
   "toc_section_display": true,
   "toc_window_display": false
  }
 },
 "nbformat": 4,
 "nbformat_minor": 2
}
